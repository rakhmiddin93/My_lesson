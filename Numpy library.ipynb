{
 "cells": [
  {
   "cell_type": "markdown",
   "id": "6719d293",
   "metadata": {},
   "source": [
    "# WELCOME TO NUMPY"
   ]
  },
  {
   "cell_type": "markdown",
   "id": "53c52e58",
   "metadata": {
    "jp-MarkdownHeadingCollapsed": true
   },
   "source": [
    "### Numpy nima"
   ]
  },
  {
   "cell_type": "markdown",
   "id": "3f5ee5d3",
   "metadata": {},
   "source": [
    "NumPy (Numerical Python) — bu Python dasturlash tilida hisob-kitoblarni amalga oshirish uchun moʻljallangan kuchli va keng tarqalgan kutubxona. NumPy asosan raqamli hisoblash uchun optimallashtirilgan, bu esa maʼlumotlar tahlili va ilmiy hisoblash jarayonlarida keng qoʻllanilishiga imkon beradi. Quyida NumPy ning asosiy jihatlari keltirilgan:\n",
    "\n",
    "Asosiy Xususiyatlari:\n",
    "Tez va samarali: NumPy, C va Fortran kabi past darajadagi tillarda yozilgan bo‘lib, katta o‘lchovdagi massivlarni (array) tezda hisoblash imkonini beradi.\n",
    "\n",
    "N-dimensional massivlar: NumPy, 1D, 2D va n-dimensional massivlarni yaratish va ulardan foydalanish imkonini beradi. Massivlar Python ro‘yxatlaridan ko‘ra tezroq va samaraliroq.\n",
    "\n",
    "Matematik va statistik funksiyalar: NumPy turli xil matematik va statistik funksiyalarni taqdim etadi, masalan, summalar, o‘rtacha, standart og‘ish, va boshqalar.\n",
    "\n",
    "Broadcasting: NumPy dasturlashda avtomatik tarzda massivlar o‘rtasidagi har xil o‘lchovlarni boshqarishga imkon beruvchi broadcasting qoidalariga ega.\n",
    "\n",
    "Ma'lumotlarni joylashtirish: NumPy ma'lumotlarni joylashtirish va saqlashni osonlashtiradi, shuningdek, matnli va binar fayllardan ma'lumotlarni o‘qish va yozish imkoniyatini beradi."
   ]
  },
  {
   "cell_type": "markdown",
   "id": "a6c9b4a3",
   "metadata": {
    "jp-MarkdownHeadingCollapsed": true
   },
   "source": [
    "### Numpy ni o'rnatish\n",
    "- pip\n",
    "- conda"
   ]
  },
  {
   "cell_type": "code",
   "execution_count": 1,
   "id": "22504021",
   "metadata": {},
   "outputs": [],
   "source": [
    "# conda install numpy"
   ]
  },
  {
   "cell_type": "code",
   "execution_count": 2,
   "id": "88cf508a",
   "metadata": {},
   "outputs": [],
   "source": [
    "# pip install numpy"
   ]
  },
  {
   "cell_type": "markdown",
   "id": "f25f4576",
   "metadata": {
    "jp-MarkdownHeadingCollapsed": true
   },
   "source": [
    "### Numpyni import qilish\n",
    "- import numpy as np"
   ]
  },
  {
   "cell_type": "code",
   "execution_count": 3,
   "id": "632c651f",
   "metadata": {},
   "outputs": [],
   "source": [
    "import numpy as np"
   ]
  },
  {
   "cell_type": "markdown",
   "id": "56bd5a1b",
   "metadata": {
    "jp-MarkdownHeadingCollapsed": true
   },
   "source": [
    "### numpy versiyasini ko'rish\n",
    "- np.__version__"
   ]
  },
  {
   "cell_type": "code",
   "execution_count": 4,
   "id": "8fc7fe86",
   "metadata": {},
   "outputs": [
    {
     "name": "stdout",
     "output_type": "stream",
     "text": [
      "1.26.1\n"
     ]
    }
   ],
   "source": [
    "print(np.__version__)"
   ]
  },
  {
   "cell_type": "markdown",
   "id": "dc281f17",
   "metadata": {
    "jp-MarkdownHeadingCollapsed": true
   },
   "source": [
    "### Massivlarni xosil qilish va o'lchamlarini ko'rish\n",
    "- np.array()"
   ]
  },
  {
   "cell_type": "code",
   "execution_count": 5,
   "id": "f2df0199",
   "metadata": {},
   "outputs": [
    {
     "data": {
      "text/plain": [
       "[1, 2, 3, 4, 5]"
      ]
     },
     "execution_count": 5,
     "metadata": {},
     "output_type": "execute_result"
    }
   ],
   "source": [
    "list1 = [1,2,3,4,5]\n",
    "list1"
   ]
  },
  {
   "cell_type": "code",
   "execution_count": 6,
   "id": "cb6a73b0",
   "metadata": {},
   "outputs": [
    {
     "name": "stdout",
     "output_type": "stream",
     "text": [
      "<class 'list'>\n"
     ]
    }
   ],
   "source": [
    "print(type(list1))"
   ]
  },
  {
   "cell_type": "code",
   "execution_count": 7,
   "id": "6be53b16",
   "metadata": {},
   "outputs": [
    {
     "data": {
      "text/plain": [
       "array([1, 2, 3, 4, 5])"
      ]
     },
     "execution_count": 7,
     "metadata": {},
     "output_type": "execute_result"
    }
   ],
   "source": [
    "arr1 = np.array([1,2,3,4,5])\n",
    "arr1"
   ]
  },
  {
   "cell_type": "code",
   "execution_count": 8,
   "id": "d205f860",
   "metadata": {},
   "outputs": [
    {
     "name": "stdout",
     "output_type": "stream",
     "text": [
      "<class 'numpy.ndarray'>\n"
     ]
    }
   ],
   "source": [
    "print(type(arr1))"
   ]
  },
  {
   "cell_type": "code",
   "execution_count": 9,
   "id": "bc2b10b6",
   "metadata": {},
   "outputs": [
    {
     "name": "stdout",
     "output_type": "stream",
     "text": [
      "bu massiv [1 2 3 4 5]\n",
      "bu list [1, 2, 3, 4, 5]\n"
     ]
    }
   ],
   "source": [
    "arr1 = np.array(list1)\n",
    "print(f'bu massiv {arr1}')\n",
    "print(f'bu list {list1}')"
   ]
  },
  {
   "cell_type": "code",
   "execution_count": 10,
   "id": "64c319ef",
   "metadata": {},
   "outputs": [
    {
     "name": "stdout",
     "output_type": "stream",
     "text": [
      "[1 2 3 4 5]\n"
     ]
    }
   ],
   "source": [
    "# bir o'lchamli massiv\n",
    "arr1 = np.array([1,2,3,4,5])\n",
    "print(arr1)"
   ]
  },
  {
   "cell_type": "code",
   "execution_count": 11,
   "id": "9abb3806",
   "metadata": {},
   "outputs": [
    {
     "data": {
      "text/plain": [
       "(5,)"
      ]
     },
     "execution_count": 11,
     "metadata": {},
     "output_type": "execute_result"
    }
   ],
   "source": [
    "arr1.shape"
   ]
  },
  {
   "cell_type": "code",
   "execution_count": 12,
   "id": "08b047c9",
   "metadata": {},
   "outputs": [
    {
     "name": "stdout",
     "output_type": "stream",
     "text": [
      "[[9 2 3]\n",
      " [4 5 6]]\n"
     ]
    }
   ],
   "source": [
    "# ikki o'lchamli massiv\n",
    "arr2 = np.array([[9,2,3], [4,5,6]])\n",
    "print(arr2)"
   ]
  },
  {
   "cell_type": "code",
   "execution_count": 13,
   "id": "a9c96f00",
   "metadata": {},
   "outputs": [
    {
     "data": {
      "text/plain": [
       "(2, 3)"
      ]
     },
     "execution_count": 13,
     "metadata": {},
     "output_type": "execute_result"
    }
   ],
   "source": [
    "arr2.shape"
   ]
  },
  {
   "cell_type": "code",
   "execution_count": 14,
   "id": "32369cff",
   "metadata": {
    "scrolled": true
   },
   "outputs": [
    {
     "name": "stdout",
     "output_type": "stream",
     "text": [
      "[[[ 1  2  3]\n",
      "  [ 4  5  6]]\n",
      "\n",
      " [[ 7  8  9]\n",
      "  [10 11 12]]\n",
      "\n",
      " [[ 7  8  9]\n",
      "  [10 11 12]]]\n"
     ]
    }
   ],
   "source": [
    "# uch o'lchamli massiv\n",
    "arr3 = np.array([[[1,2,3], [4,5,6]], [[7,8,9], [10,11,12]], [[7,8,9], [10,11,12]]])\n",
    "print(arr3)"
   ]
  },
  {
   "cell_type": "code",
   "execution_count": 15,
   "id": "234fb8db",
   "metadata": {},
   "outputs": [
    {
     "data": {
      "text/plain": [
       "(3, 2, 3)"
      ]
     },
     "execution_count": 15,
     "metadata": {},
     "output_type": "execute_result"
    }
   ],
   "source": [
    "arr3.shape"
   ]
  },
  {
   "cell_type": "markdown",
   "id": "97f15e60-4d7f-4fcf-ac49-6109e11b3386",
   "metadata": {
    "jp-MarkdownHeadingCollapsed": true
   },
   "source": [
    "### Massivlarni xosil qiluvchi funksiyalar\n",
    "- zeros\n",
    "- ones\n",
    "- eye\n",
    "- linspace\n",
    "- fill"
   ]
  },
  {
   "cell_type": "code",
   "execution_count": 49,
   "id": "99bb0fdb",
   "metadata": {},
   "outputs": [
    {
     "name": "stdout",
     "output_type": "stream",
     "text": [
      "[0. 0. 0. 0. 0.]\n",
      "(5,)\n"
     ]
    }
   ],
   "source": [
    "nollar = np.zeros(5)\n",
    "print(nollar)\n",
    "print(nollar.shape)"
   ]
  },
  {
   "cell_type": "code",
   "execution_count": 17,
   "id": "55fb6745",
   "metadata": {},
   "outputs": [
    {
     "name": "stdout",
     "output_type": "stream",
     "text": [
      "[[0 0 0 0 0 0]\n",
      " [0 0 0 0 0 0]\n",
      " [0 0 0 0 0 0]\n",
      " [0 0 0 0 0 0]\n",
      " [0 0 0 0 0 0]]\n"
     ]
    }
   ],
   "source": [
    "nollar = np.zeros((5, 6), dtype=int)\n",
    "print(nollar)"
   ]
  },
  {
   "cell_type": "code",
   "execution_count": 18,
   "id": "e4a460b7",
   "metadata": {},
   "outputs": [
    {
     "name": "stdout",
     "output_type": "stream",
     "text": [
      "(5, 6)\n",
      "[[0. 0. 0. 0. 0. 0.]\n",
      " [0. 0. 0. 0. 0. 0.]\n",
      " [0. 0. 0. 0. 0. 0.]\n",
      " [0. 0. 0. 0. 0. 0.]\n",
      " [0. 0. 0. 0. 0. 0.]]\n"
     ]
    }
   ],
   "source": [
    "nollar = np.zeros((5, 6))\n",
    "print(nollar.shape)\n",
    "print(nollar)"
   ]
  },
  {
   "cell_type": "code",
   "execution_count": 19,
   "id": "7135b651",
   "metadata": {},
   "outputs": [
    {
     "name": "stdout",
     "output_type": "stream",
     "text": [
      "(3, 2, 3)\n",
      "[[[0 0 0]\n",
      "  [0 0 0]]\n",
      "\n",
      " [[0 0 0]\n",
      "  [0 0 0]]\n",
      "\n",
      " [[0 0 0]\n",
      "  [0 0 0]]]\n"
     ]
    }
   ],
   "source": [
    "nollar = np.zeros((3,2,3), dtype=int)\n",
    "print(nollar.shape)\n",
    "print(nollar)"
   ]
  },
  {
   "cell_type": "code",
   "execution_count": 20,
   "id": "0ba5a31c",
   "metadata": {},
   "outputs": [
    {
     "name": "stdout",
     "output_type": "stream",
     "text": [
      "(2, 3, 2, 3)\n",
      "[[[[0. 0. 0.]\n",
      "   [0. 0. 0.]]\n",
      "\n",
      "  [[0. 0. 0.]\n",
      "   [0. 0. 0.]]\n",
      "\n",
      "  [[0. 0. 0.]\n",
      "   [0. 0. 0.]]]\n",
      "\n",
      "\n",
      " [[[0. 0. 0.]\n",
      "   [0. 0. 0.]]\n",
      "\n",
      "  [[0. 0. 0.]\n",
      "   [0. 0. 0.]]\n",
      "\n",
      "  [[0. 0. 0.]\n",
      "   [0. 0. 0.]]]]\n"
     ]
    }
   ],
   "source": [
    "nollar = np.zeros((2,3,2,3))\n",
    "print(nollar.shape)\n",
    "print(nollar)"
   ]
  },
  {
   "cell_type": "code",
   "execution_count": 21,
   "id": "d9ff7ecd",
   "metadata": {},
   "outputs": [
    {
     "name": "stdout",
     "output_type": "stream",
     "text": [
      "(2, 3)\n",
      "[[1. 1. 1.]\n",
      " [1. 1. 1.]]\n"
     ]
    }
   ],
   "source": [
    "birlar = np.ones((2, 3))\n",
    "print(birlar.shape)\n",
    "print(birlar)"
   ]
  },
  {
   "cell_type": "code",
   "execution_count": 22,
   "id": "a2b3572e",
   "metadata": {},
   "outputs": [
    {
     "name": "stdout",
     "output_type": "stream",
     "text": [
      "(2, 4, 3)\n",
      "[[[1. 1. 1.]\n",
      "  [1. 1. 1.]\n",
      "  [1. 1. 1.]\n",
      "  [1. 1. 1.]]\n",
      "\n",
      " [[1. 1. 1.]\n",
      "  [1. 1. 1.]\n",
      "  [1. 1. 1.]\n",
      "  [1. 1. 1.]]]\n"
     ]
    }
   ],
   "source": [
    "birlar = np.ones((2,4, 3))\n",
    "print(birlar.shape)\n",
    "print(birlar)"
   ]
  },
  {
   "cell_type": "code",
   "execution_count": 50,
   "id": "f6476fd8",
   "metadata": {},
   "outputs": [
    {
     "name": "stdout",
     "output_type": "stream",
     "text": [
      "[[1. 0. 0. 0. 0.]\n",
      " [0. 1. 0. 0. 0.]\n",
      " [0. 0. 1. 0. 0.]\n",
      " [0. 0. 0. 1. 0.]\n",
      " [0. 0. 0. 0. 1.]]\n"
     ]
    }
   ],
   "source": [
    "dioganal = np.eye(5)\n",
    "print(dioganal)"
   ]
  },
  {
   "cell_type": "code",
   "execution_count": 52,
   "id": "efb57145",
   "metadata": {},
   "outputs": [
    {
     "data": {
      "text/plain": [
       "array([0.        , 0.55555556, 1.11111111, 1.66666667, 2.22222222,\n",
       "       2.77777778, 3.33333333, 3.88888889, 4.44444444, 5.        ])"
      ]
     },
     "execution_count": 52,
     "metadata": {},
     "output_type": "execute_result"
    }
   ],
   "source": [
    "chiziq = np.linspace(0,5,10)\n",
    "chiziq"
   ]
  },
  {
   "cell_type": "code",
   "execution_count": 53,
   "id": "918cc28d",
   "metadata": {},
   "outputs": [
    {
     "data": {
      "text/plain": [
       "array([-10.        ,  -7.77777778,  -5.55555556,  -3.33333333,\n",
       "        -1.11111111,   1.11111111,   3.33333333,   5.55555556,\n",
       "         7.77777778,  10.        ])"
      ]
     },
     "execution_count": 53,
     "metadata": {},
     "output_type": "execute_result"
    }
   ],
   "source": [
    "chiziq = np.linspace(-10,10,10)\n",
    "chiziq"
   ]
  },
  {
   "cell_type": "markdown",
   "id": "333f7730-48f5-4d93-8a64-d0f6fe72e61f",
   "metadata": {
    "jp-MarkdownHeadingCollapsed": true
   },
   "source": [
    "### Array (massiv) xaqida ma'lumotlar olish\n",
    "- ndim\n",
    "- shape\n",
    "- dtype\n",
    "- size"
   ]
  },
  {
   "cell_type": "code",
   "execution_count": 26,
   "id": "b6e127be",
   "metadata": {},
   "outputs": [
    {
     "name": "stdout",
     "output_type": "stream",
     "text": [
      "0\n",
      "1\n",
      "2\n",
      "3\n"
     ]
    }
   ],
   "source": [
    "a = np.array(42)\n",
    "b = np.array([1, 2, 3, 4, 5])\n",
    "c = np.array([[1, 2, 3], [4, 5, 6]])\n",
    "d = np.array([[[1, 2, 3], [4, 5, 6]], [[1, 2, 3], [4, 5, 6]]])\n",
    "\n",
    "print(a.ndim)\n",
    "print(b.ndim)\n",
    "print(c.ndim)\n",
    "print(d.ndim)"
   ]
  },
  {
   "cell_type": "code",
   "execution_count": 27,
   "id": "32bbd42e-25b1-435c-9f79-33e59e69dddc",
   "metadata": {},
   "outputs": [
    {
     "name": "stdout",
     "output_type": "stream",
     "text": [
      "()\n",
      "(5,)\n",
      "(2, 3)\n",
      "(2, 2, 3)\n"
     ]
    }
   ],
   "source": [
    "a = np.array(42)\n",
    "b = np.array([1, 3,2,  4, 5])\n",
    "c = np.array([[1, 2, 3], [4, 5, 6]])\n",
    "d = np.array([[[1, 2, 3], [4, 5, 6]], [[1, 2, 3], [4, 5, 6]]])\n",
    "\n",
    "print(a.shape)\n",
    "print(b.shape)\n",
    "print(c.shape)\n",
    "print(d.shape)"
   ]
  },
  {
   "cell_type": "code",
   "execution_count": 144,
   "id": "0a1f9ef2-1e19-41ff-bc01-48696a4b40e5",
   "metadata": {},
   "outputs": [
    {
     "name": "stdout",
     "output_type": "stream",
     "text": [
      "int32\n",
      "int32\n",
      "int32\n",
      "float64\n"
     ]
    }
   ],
   "source": [
    "a = np.array(42)\n",
    "b = np.array([1, 2, 3, 4, 5])\n",
    "c = np.array([[1, 2, 3], [4, 5, 6]])\n",
    "d = np.array([[[1, 2, 3], [4, 5, 6]], [[1, 2, 3], [4, 5, 6]]], dtype=float)\n",
    "\n",
    "print(a.dtype)\n",
    "print(b.dtype)\n",
    "print(c.dtype)\n",
    "print(d.dtype)"
   ]
  },
  {
   "cell_type": "code",
   "execution_count": 145,
   "id": "ea94b3c9-8c7d-41a7-b3cb-d8d4960c0809",
   "metadata": {},
   "outputs": [
    {
     "name": "stdout",
     "output_type": "stream",
     "text": [
      "1\n",
      "5\n",
      "6\n",
      "12\n"
     ]
    }
   ],
   "source": [
    "a = np.array(42)\n",
    "b = np.array([1, 3,2,  4, 5])\n",
    "c = np.array([[1, 2, 3], [4, 5, 6]])\n",
    "d = np.array([[[1, 2, 3], [4, 5, 6]], [[1, 2, 3], [4, 5, 6]]])\n",
    "\n",
    "print(a.size)\n",
    "print(b.size)\n",
    "print(c.size)\n",
    "print(d.size)"
   ]
  },
  {
   "cell_type": "markdown",
   "id": "8784af7a",
   "metadata": {
    "jp-MarkdownHeadingCollapsed": true
   },
   "source": [
    "### Numpy da random moduli\n",
    "- rand\n",
    "- randn\n",
    "- randint\n",
    "- shaflle\n",
    "- normal\n",
    "- uniform\n",
    "- permutation\n",
    "- arrange"
   ]
  },
  {
   "cell_type": "code",
   "execution_count": 78,
   "id": "bf86202f-ab6f-4b52-8648-9a5527069a2f",
   "metadata": {},
   "outputs": [
    {
     "name": "stdout",
     "output_type": "stream",
     "text": [
      "Random Float: 0.5677003278199915\n"
     ]
    }
   ],
   "source": [
    "# Generates a single random float in the range [0.0, 1.0)\n",
    "random_float = np.random.rand()\n",
    "print(\"Random Float:\", random_float)"
   ]
  },
  {
   "cell_type": "code",
   "execution_count": 146,
   "id": "30bbf02e-bf33-48d6-8b6e-6297467f986b",
   "metadata": {},
   "outputs": [
    {
     "name": "stdout",
     "output_type": "stream",
     "text": [
      "float64\n",
      "(2, 3)\n",
      "2\n",
      "Random Float: [[0.14660482 0.51332617 0.23322807]\n",
      " [0.58130542 0.86313852 0.88035997]]\n"
     ]
    }
   ],
   "source": [
    "# Generates a single random float in the range [0.0, 1.0)\n",
    "random_float = np.random.rand(2, 3)\n",
    "print(random_float.dtype)\n",
    "print(random_float.shape)\n",
    "print(random_float.ndim)\n",
    "print(\"Random Float:\", random_float)"
   ]
  },
  {
   "cell_type": "code",
   "execution_count": 98,
   "id": "16e25bd5-41c9-424d-8057-b5da3e71e0b8",
   "metadata": {},
   "outputs": [
    {
     "name": "stdout",
     "output_type": "stream",
     "text": [
      "Random Floats Array: [0.86040462 0.25025136 0.03883473 0.30326551 0.53708243]\n"
     ]
    }
   ],
   "source": [
    "# Generates a 1D array of 5 random floats in the range [0.0, 1.0)\n",
    "random_floats_array = np.random.rand(5)\n",
    "print(\"Random Floats Array:\", random_floats_array)"
   ]
  },
  {
   "cell_type": "code",
   "execution_count": 119,
   "id": "8a598c8a-d9b6-47cc-ad31-5776e3ae4f00",
   "metadata": {},
   "outputs": [
    {
     "name": "stdout",
     "output_type": "stream",
     "text": [
      "Random Integer: 35\n"
     ]
    }
   ],
   "source": [
    "# Generates a random integer between 10 and 50 (exclusive)\n",
    "random_int = np.random.randint(10, 50)\n",
    "print(\"Random Integer:\", random_int)"
   ]
  },
  {
   "cell_type": "code",
   "execution_count": 143,
   "id": "7f66a330-d22d-40e5-bdd9-aeab84e0c449",
   "metadata": {},
   "outputs": [
    {
     "name": "stdout",
     "output_type": "stream",
     "text": [
      "Random Integers Array:\n",
      " [[[9 6 9]\n",
      "  [4 2 6]\n",
      "  [1 8 9]]\n",
      "\n",
      " [[9 0 5]\n",
      "  [6 7 9]\n",
      "  [8 1 9]]]\n"
     ]
    }
   ],
   "source": [
    "# Generates a 2x3 array of random integers between 10 and 50 (exclusive)\n",
    "random_int_array = np.random.randint(0, 10, size=(2, 3, 3))\n",
    "print(\"Random Integers Array:\\n\", random_int_array)"
   ]
  },
  {
   "cell_type": "code",
   "execution_count": 150,
   "id": "fa534928-90ba-47d1-8877-8c2bf2c473f1",
   "metadata": {},
   "outputs": [
    {
     "name": "stdout",
     "output_type": "stream",
     "text": [
      "Custom Normal Distribution Array: [11.53667891 11.10938559 11.46634673  7.79155642 11.52314368]\n"
     ]
    }
   ],
   "source": [
    "# Generates a 1D array of 5 random floats with mean=10 and std=2\n",
    "custom_normal_array = np.random.normal(10, 2, 5)\n",
    "print(\"Custom Normal Distribution Array:\", custom_normal_array)"
   ]
  },
  {
   "cell_type": "code",
   "execution_count": 151,
   "id": "e1a9bf6c-214c-4cab-a4fc-78e0cd42c9e4",
   "metadata": {},
   "outputs": [
    {
     "name": "stdout",
     "output_type": "stream",
     "text": [
      "Custom Normal Distribution Array: [ 3.35222546 -2.37758009  5.17223884  2.4676768   9.0764499   4.14096045\n",
      "  5.13682352  6.16753873  4.19779809]\n"
     ]
    }
   ],
   "source": [
    "# Generates a 1D array of 5 random floats with mean=10 and std=2\n",
    "custom_normal_array = np.random.normal(5, 3, 9)\n",
    "print(\"Custom Normal Distribution Array:\", custom_normal_array)"
   ]
  },
  {
   "cell_type": "code",
   "execution_count": 156,
   "id": "313b5168-8b21-4291-a3a8-77ccf9c95ea1",
   "metadata": {},
   "outputs": [
    {
     "name": "stdout",
     "output_type": "stream",
     "text": [
      "Normal Distribution Array:\n",
      " [[-1.73031531  0.14205009  1.03715846]\n",
      " [-0.3097431  -1.16981703 -0.10798496]]\n"
     ]
    }
   ],
   "source": [
    "# Generates a 2x3 array of random floats from a standard normal distribution\n",
    "normal_random_array = np.random.randn(2, 3)\n",
    "print(\"Normal Distribution Array:\\n\", normal_random_array)"
   ]
  },
  {
   "cell_type": "code",
   "execution_count": 157,
   "id": "cc904cf7-dd47-4b07-a8e8-3ed675114339",
   "metadata": {},
   "outputs": [
    {
     "name": "stdout",
     "output_type": "stream",
     "text": [
      "Uniform Distribution Array:\n",
      " [[9.92643025 6.88369485 8.7478915 ]\n",
      " [6.96494724 9.1458211  7.84540735]]\n"
     ]
    }
   ],
   "source": [
    "# Generates a 2x3 array of random floats in the range [5, 10)\n",
    "uniform_array = np.random.uniform(5, 10, size=(2, 3), )\n",
    "print(\"Uniform Distribution Array:\\n\", uniform_array)"
   ]
  },
  {
   "cell_type": "code",
   "execution_count": 159,
   "id": "56ad9fd6-52d4-4c73-a22d-fd413f85a0af",
   "metadata": {},
   "outputs": [
    {
     "name": "stdout",
     "output_type": "stream",
     "text": [
      "Uniform Distribution Array:\n",
      " [[[5.34346275 7.49910749 9.13165752]\n",
      "  [5.85149532 7.26120844 7.57081202]]\n",
      "\n",
      " [[3.77850549 2.41084832 2.05045329]\n",
      "  [2.5144244  2.74731797 2.07227649]]\n",
      "\n",
      " [[8.78220667 7.56999132 0.46896468]\n",
      "  [2.68672482 0.22184742 4.98165187]]]\n"
     ]
    }
   ],
   "source": [
    "\n",
    "uniform_array = np.random.uniform(0, 10, size=(3,2, 3), )\n",
    "print(\"Uniform Distribution Array:\\n\", uniform_array)"
   ]
  },
  {
   "cell_type": "code",
   "execution_count": 184,
   "id": "0354958d-113a-44d5-a832-d0190a65b229",
   "metadata": {},
   "outputs": [
    {
     "name": "stdout",
     "output_type": "stream",
     "text": [
      "Random Choice: 10\n"
     ]
    }
   ],
   "source": [
    "# Selects a random element from a given array\n",
    "choices = [10, 20, 30, 40, 50]\n",
    "random_choice = np.random.choice(choices)\n",
    "print(\"Random Choice:\", random_choice)"
   ]
  },
  {
   "cell_type": "code",
   "execution_count": 198,
   "id": "d22078ad-8e9a-486b-869b-d7b1d77064ac",
   "metadata": {},
   "outputs": [
    {
     "name": "stdout",
     "output_type": "stream",
     "text": [
      "Random Choices (No Replacement): [40 30 10]\n"
     ]
    }
   ],
   "source": [
    "# Selects 3 random elements from the array (without replacement)\n",
    "random_choices = np.random.choice(choices, size=3, replace=False)\n",
    "print(\"Random Choices (No Replacement):\", random_choices)"
   ]
  },
  {
   "cell_type": "code",
   "execution_count": 206,
   "id": "76ba6937-0f5a-4458-a916-381c46c35b97",
   "metadata": {},
   "outputs": [
    {
     "name": "stdout",
     "output_type": "stream",
     "text": [
      "Random Integer: [7 8 5 6 0 4 4]\n",
      "Random Choices (No Replacement): [[8 4 6 4 4 7]\n",
      " [7 4 4 4 5 4]\n",
      " [0 4 7 0 7 8]]\n"
     ]
    }
   ],
   "source": [
    "# Selects 3 random elements from the array (without replacement)\n",
    "random_int = np.random.randint(0, 10, size=(7))\n",
    "print(\"Random Integer:\", random_int)\n",
    "random_choices = np.random.choice(random_int, size=(3,6))\n",
    "print(\"Random Choices (No Replacement):\", random_choices)"
   ]
  },
  {
   "cell_type": "code",
   "execution_count": 197,
   "id": "baee9408-5fc1-44cd-b0d6-d14e0a212048",
   "metadata": {},
   "outputs": [
    {
     "name": "stdout",
     "output_type": "stream",
     "text": [
      "Shuffled Array: [3 5 1 2 4]\n"
     ]
    }
   ],
   "source": [
    "array_to_shuffle = np.array([1, 2, 3, 4, 5])\n",
    "np.random.shuffle(array_to_shuffle)\n",
    "print(\"Shuffled Array:\", array_to_shuffle)"
   ]
  },
  {
   "cell_type": "code",
   "execution_count": 218,
   "id": "afefc9fa-7d40-4555-a315-7dab1c1f7bb2",
   "metadata": {},
   "outputs": [
    {
     "name": "stdout",
     "output_type": "stream",
     "text": [
      "Original Array: [1 2 3 4 5]\n",
      "Permuted Array: [1 3 5 2 4]\n"
     ]
    }
   ],
   "source": [
    "# Returns a new array with elements in random order\n",
    "original_array = np.array([1, 2, 3, 4, 5])\n",
    "permuted_array = np.random.permutation(original_array)\n",
    "print(\"Original Array:\", original_array)\n",
    "print(\"Permuted Array:\", permuted_array)"
   ]
  },
  {
   "cell_type": "code",
   "execution_count": 219,
   "id": "43475e6c-7937-499f-a4ad-f31d7d6272a6",
   "metadata": {},
   "outputs": [
    {
     "name": "stdout",
     "output_type": "stream",
     "text": [
      "Original Array: [1 2 3 4 5]\n",
      "Permuted Array: [2 3 1 4 5]\n"
     ]
    }
   ],
   "source": [
    "# Returns a new array with elements in random order\n",
    "original_array = np.array([1, 2, 3, 4, 5])\n",
    "permuted_array = np.random.permutation(original_array)\n",
    "print(\"Original Array:\", original_array)\n",
    "print(\"Permuted Array:\", permuted_array)"
   ]
  },
  {
   "cell_type": "code",
   "execution_count": 269,
   "id": "f536ae72-a4ae-4ee8-9720-c259d2c77a36",
   "metadata": {},
   "outputs": [
    {
     "name": "stdout",
     "output_type": "stream",
     "text": [
      "Random Integer with Seed: 52\n",
      "Random Integer with Same Seed: 52\n"
     ]
    }
   ],
   "source": [
    "np.random.seed(42)\n",
    "print(\"Random Integer with Seed:\", np.random.randint(1, 100))\n",
    "# Resetting the seed gives the same output\n",
    "np.random.seed(42)\n",
    "print(\"Random Integer with Same Seed:\", np.random.randint(1, 100))"
   ]
  },
  {
   "cell_type": "code",
   "execution_count": 274,
   "id": "876c9197-2428-4609-b6be-ab90eedf64ed",
   "metadata": {},
   "outputs": [
    {
     "name": "stdout",
     "output_type": "stream",
     "text": [
      "[ 5  7  9 11 13]\n"
     ]
    }
   ],
   "source": [
    "import numpy as np\n",
    "ketmaket = np.arange(5,15, 2)\n",
    "print(ketmaket)"
   ]
  },
  {
   "cell_type": "code",
   "execution_count": null,
   "id": "ad790739-69f0-4fad-8c01-5176a7e4d4db",
   "metadata": {},
   "outputs": [],
   "source": []
  },
  {
   "cell_type": "code",
   "execution_count": null,
   "id": "2565d996-7a95-44f2-97e8-741a6ea75e42",
   "metadata": {},
   "outputs": [],
   "source": []
  },
  {
   "cell_type": "code",
   "execution_count": 44,
   "id": "9d23fdaa",
   "metadata": {},
   "outputs": [
    {
     "name": "stdout",
     "output_type": "stream",
     "text": [
      "o'lchami 3\n",
      "o'lchami (2, 2, 3)\n",
      "[[[0.95071431 0.73199394 0.59865848]\n",
      "  [0.15601864 0.15599452 0.05808361]]\n",
      "\n",
      " [[0.86617615 0.60111501 0.70807258]\n",
      "  [0.02058449 0.96990985 0.83244264]]]\n"
     ]
    }
   ],
   "source": [
    "tasodif = np.random.rand(2,2,3)\n",
    "\n",
    "print(f'''o'lchami {tasodif.ndim}''')\n",
    "print(f'''o'lchami {tasodif.shape}''')\n",
    "print(tasodif)"
   ]
  },
  {
   "cell_type": "code",
   "execution_count": 45,
   "id": "106f5eed",
   "metadata": {},
   "outputs": [
    {
     "name": "stdout",
     "output_type": "stream",
     "text": [
      "o'lchami 3\n",
      "o'lchami (2, 3, 2)\n",
      "[[[-0.58087813 -0.52516981]\n",
      "  [-0.57138017 -0.92408284]\n",
      "  [-2.61254901  0.95036968]]\n",
      "\n",
      " [[ 0.81644508 -1.523876  ]\n",
      "  [-0.42804606 -0.74240684]\n",
      "  [-0.7033438  -2.13962066]]]\n"
     ]
    }
   ],
   "source": [
    "tasodif1 = np.random.randn(2,3,2)\n",
    "\n",
    "print(f'''o'lchami {tasodif1.ndim}''')\n",
    "print(f'''o'lchami {tasodif1.shape}''')\n",
    "print(tasodif1)"
   ]
  },
  {
   "cell_type": "code",
   "execution_count": 46,
   "id": "c2c72fa9",
   "metadata": {},
   "outputs": [
    {
     "name": "stdout",
     "output_type": "stream",
     "text": [
      "o'lchami 1\n",
      "o'lchami (2,)\n",
      "[0 2]\n"
     ]
    }
   ],
   "source": [
    "tasodif2 = np.random.randint((1,10))\n",
    "\n",
    "print(f'''o'lchami {tasodif2.ndim}''')\n",
    "print(f'''o'lchami {tasodif2.shape}''')\n",
    "print(tasodif2)"
   ]
  },
  {
   "cell_type": "code",
   "execution_count": null,
   "id": "3378c90b",
   "metadata": {},
   "outputs": [],
   "source": []
  },
  {
   "cell_type": "markdown",
   "id": "7af3dc10",
   "metadata": {
    "jp-MarkdownHeadingCollapsed": true
   },
   "source": [
    "### Numpy da ma'lumot turlari"
   ]
  },
  {
   "cell_type": "markdown",
   "id": "77c8e7df-a93f-4e2f-b237-953869f4977f",
   "metadata": {},
   "source": [
    "##### Python dasturlash tilida quyidagi ma'lumot turlarini bilamiz\n",
    "- strings - used to represent text data, the text is given under quote marks. e.g. \"ABCD\"\n",
    "- integer - used to represent integer numbers. e.g. -1, -2, -3\n",
    "- float - used to represent real numbers. e.g. 1.2, 42.42\n",
    "- boolean - used to represent True or False.\n",
    "- complex - used to represent complex numbers. e.g. 1.0 + 2.0j, 1.5 + 2.5j"
   ]
  },
  {
   "cell_type": "markdown",
   "id": "799465b6-57a6-4688-b973-5e6db8b42385",
   "metadata": {},
   "source": [
    "##### NumPy kutibxonasida esa quyidagicha ma'lumot turlari mavjud\n",
    "\n",
    "- i - integer\n",
    "- b - boolean\n",
    "- u - unsigned integer\n",
    "- f - float\n",
    "- c - complex float\n",
    "- m - timedelta\n",
    "- M - datetime\n",
    "- O - object\n",
    "- S - string\n",
    "- U - unicode string\n",
    "- V - fixed chunk of memory for other type ( void )"
   ]
  },
  {
   "cell_type": "code",
   "execution_count": 3,
   "id": "84f4153f-7a3f-4079-a96e-e9e541bf39d4",
   "metadata": {},
   "outputs": [
    {
     "name": "stdout",
     "output_type": "stream",
     "text": [
      "int32\n"
     ]
    }
   ],
   "source": [
    "arr = np.array([1, 2, 3, 4])\n",
    "\n",
    "print(arr.dtype)"
   ]
  },
  {
   "cell_type": "code",
   "execution_count": 275,
   "id": "8c20b87b-a8f7-4ba1-b56b-70c4987c28f3",
   "metadata": {},
   "outputs": [
    {
     "data": {
      "text/plain": [
       "array([[7, 4, 6],\n",
       "       [9, 2, 6]])"
      ]
     },
     "execution_count": 275,
     "metadata": {},
     "output_type": "execute_result"
    }
   ],
   "source": [
    "arrint = np.random.randint(0, 10, size=(2,3))\n",
    "arrint"
   ]
  },
  {
   "cell_type": "code",
   "execution_count": 4,
   "id": "79f0e2be-7c3f-4bff-81a0-f83af42a8592",
   "metadata": {},
   "outputs": [
    {
     "name": "stdout",
     "output_type": "stream",
     "text": [
      "<U6\n"
     ]
    }
   ],
   "source": [
    "arr = np.array(['apple', 'banana', 'cherry'])\n",
    "\n",
    "print(arr.dtype)"
   ]
  },
  {
   "cell_type": "code",
   "execution_count": 6,
   "id": "fda24858-ac10-4075-a4cb-d0870ca47d7b",
   "metadata": {},
   "outputs": [
    {
     "name": "stdout",
     "output_type": "stream",
     "text": [
      "[1 2 3 4]\n",
      "int32\n"
     ]
    }
   ],
   "source": [
    "arr = np.array([1, 2, 3, 4], dtype='i4')\n",
    "\n",
    "print(arr)\n",
    "print(arr.dtype)"
   ]
  },
  {
   "cell_type": "code",
   "execution_count": 5,
   "id": "6f00b702-7aff-4024-bca4-97beed89f14b",
   "metadata": {},
   "outputs": [
    {
     "name": "stdout",
     "output_type": "stream",
     "text": [
      "[b'1' b'2' b'3' b'4']\n",
      "|S1\n"
     ]
    }
   ],
   "source": [
    "arr = np.array([1, 2, 3, 4], dtype='S')\n",
    "\n",
    "print(arr)\n",
    "print(arr.dtype)"
   ]
  },
  {
   "cell_type": "code",
   "execution_count": 8,
   "id": "9b66e560-44f4-4d44-bf03-0a0b73a919a8",
   "metadata": {},
   "outputs": [
    {
     "ename": "ValueError",
     "evalue": "invalid literal for int() with base 10: 'a'",
     "output_type": "error",
     "traceback": [
      "\u001b[1;31m---------------------------------------------------------------------------\u001b[0m",
      "\u001b[1;31mValueError\u001b[0m                                Traceback (most recent call last)",
      "Cell \u001b[1;32mIn[8], line 1\u001b[0m\n\u001b[1;32m----> 1\u001b[0m arr \u001b[38;5;241m=\u001b[39m \u001b[43mnp\u001b[49m\u001b[38;5;241;43m.\u001b[39;49m\u001b[43marray\u001b[49m\u001b[43m(\u001b[49m\u001b[43m[\u001b[49m\u001b[38;5;124;43m'\u001b[39;49m\u001b[38;5;124;43ma\u001b[39;49m\u001b[38;5;124;43m'\u001b[39;49m\u001b[43m,\u001b[49m\u001b[43m \u001b[49m\u001b[38;5;124;43m'\u001b[39;49m\u001b[38;5;124;43m2\u001b[39;49m\u001b[38;5;124;43m'\u001b[39;49m\u001b[43m,\u001b[49m\u001b[43m \u001b[49m\u001b[38;5;124;43m'\u001b[39;49m\u001b[38;5;124;43m3\u001b[39;49m\u001b[38;5;124;43m'\u001b[39;49m\u001b[43m]\u001b[49m\u001b[43m,\u001b[49m\u001b[43m \u001b[49m\u001b[43mdtype\u001b[49m\u001b[38;5;241;43m=\u001b[39;49m\u001b[38;5;124;43m'\u001b[39;49m\u001b[38;5;124;43mi\u001b[39;49m\u001b[38;5;124;43m'\u001b[39;49m\u001b[43m)\u001b[49m\n",
      "\u001b[1;31mValueError\u001b[0m: invalid literal for int() with base 10: 'a'"
     ]
    }
   ],
   "source": [
    "arr = np.array(['a', '2', '3'], dtype='i')"
   ]
  },
  {
   "cell_type": "code",
   "execution_count": 9,
   "id": "88b97dbc-6eb0-4852-98fe-c2a75c74d56f",
   "metadata": {},
   "outputs": [
    {
     "name": "stdout",
     "output_type": "stream",
     "text": [
      "[1 2 3]\n",
      "int32\n"
     ]
    }
   ],
   "source": [
    "arr = np.array([1.1, 2.1, 3.1])\n",
    "\n",
    "newarr = arr.astype(int)\n",
    "\n",
    "print(newarr)\n",
    "print(newarr.dtype)"
   ]
  },
  {
   "cell_type": "code",
   "execution_count": 10,
   "id": "7ee9dddb-c7cf-4b83-a064-75fd16c120e9",
   "metadata": {},
   "outputs": [
    {
     "name": "stdout",
     "output_type": "stream",
     "text": [
      "[ True False  True]\n",
      "bool\n"
     ]
    }
   ],
   "source": [
    "arr = np.array([1, 0, 3])\n",
    "\n",
    "newarr = arr.astype(bool)\n",
    "\n",
    "print(newarr)\n",
    "print(newarr.dtype)"
   ]
  },
  {
   "cell_type": "code",
   "execution_count": 18,
   "id": "b81ec80c-06e4-4c4a-a57f-8c1a7e49909b",
   "metadata": {},
   "outputs": [
    {
     "data": {
      "text/plain": [
       "array([[ 7, 10,  3,  4],\n",
       "       [ 5, 11, 10,  3],\n",
       "       [ 5,  8, 11,  7]])"
      ]
     },
     "execution_count": 18,
     "metadata": {},
     "output_type": "execute_result"
    }
   ],
   "source": [
    "arrint = np.random.randint(1,12, size=(3,4))\n",
    "arrint"
   ]
  },
  {
   "cell_type": "code",
   "execution_count": 21,
   "id": "6fcefc55-bacc-42d3-a01a-1e40a7363481",
   "metadata": {},
   "outputs": [
    {
     "name": "stdout",
     "output_type": "stream",
     "text": [
      "float64\n",
      "[[ 7. 10.  3.  4.]\n",
      " [ 5. 11. 10.  3.]\n",
      " [ 5.  8. 11.  7.]]\n",
      "\n",
      "\n",
      "|S11\n",
      "[[b'7' b'10' b'3' b'4']\n",
      " [b'5' b'11' b'10' b'3']\n",
      " [b'5' b'8' b'11' b'7']]\n"
     ]
    }
   ],
   "source": [
    "arrf1 = arrint.astype(float)\n",
    "arrf2 = arrint.astype('S')\n",
    "print(arrf1.dtype)\n",
    "print(arrf1)\n",
    "print('\\n')\n",
    "print(arrf2.dtype)\n",
    "print(arrf2)"
   ]
  },
  {
   "cell_type": "markdown",
   "id": "27f04763-8fd9-4e66-a49a-1abeeecff4a1",
   "metadata": {
    "jp-MarkdownHeadingCollapsed": true
   },
   "source": [
    "### NumPy Array Copy vs View"
   ]
  },
  {
   "cell_type": "code",
   "execution_count": 25,
   "id": "8caa283e-3fe3-4470-80e1-311e0e11f6f4",
   "metadata": {},
   "outputs": [
    {
     "data": {
      "text/plain": [
       "array([[ 1,  2,  3,  4],\n",
       "       [ 5,  6,  7,  8],\n",
       "       [ 9, 10, 11, 12]])"
      ]
     },
     "execution_count": 25,
     "metadata": {},
     "output_type": "execute_result"
    }
   ],
   "source": [
    "sonlar = np.arange(1,13).reshape(3,4)\n",
    "sonlar"
   ]
  },
  {
   "cell_type": "code",
   "execution_count": 26,
   "id": "8ac20912-3f0b-41b8-abe9-0ad02b891f88",
   "metadata": {},
   "outputs": [
    {
     "data": {
      "text/plain": [
       "array([[ 1,  2,  3,  4],\n",
       "       [ 5,  6,  7,  8],\n",
       "       [ 9, 10, 11, 12]])"
      ]
     },
     "execution_count": 26,
     "metadata": {},
     "output_type": "execute_result"
    }
   ],
   "source": [
    "test = sonlar.copy()\n",
    "test"
   ]
  },
  {
   "cell_type": "code",
   "execution_count": 28,
   "id": "8346f926-d91a-45c3-b91f-4a3ff40d86b2",
   "metadata": {},
   "outputs": [
    {
     "data": {
      "text/plain": [
       "array([[ 1,  2,  3,  0],\n",
       "       [ 5,  6,  7,  0],\n",
       "       [ 9, 10, 11,  0]])"
      ]
     },
     "execution_count": 28,
     "metadata": {},
     "output_type": "execute_result"
    }
   ],
   "source": [
    "test[:, -1] = 0\n",
    "test"
   ]
  },
  {
   "cell_type": "code",
   "execution_count": 31,
   "id": "3f9d8c1d-20d4-480f-b7db-a071b8cda806",
   "metadata": {},
   "outputs": [
    {
     "data": {
      "text/plain": [
       "array([[ 1,  2,  3,  4],\n",
       "       [ 5,  6,  7,  8],\n",
       "       [ 9, 10, 11, 12]])"
      ]
     },
     "execution_count": 31,
     "metadata": {},
     "output_type": "execute_result"
    }
   ],
   "source": [
    "test1 = sonlar.view()\n",
    "test1"
   ]
  },
  {
   "cell_type": "code",
   "execution_count": 36,
   "id": "0e290d8a-ed32-407f-b727-4965067d8b91",
   "metadata": {},
   "outputs": [
    {
     "data": {
      "text/plain": [
       "array([[  1,   2,   3, 111],\n",
       "       [  5,   6,   7, 111],\n",
       "       [  9,  10,  11, 111]])"
      ]
     },
     "execution_count": 36,
     "metadata": {},
     "output_type": "execute_result"
    }
   ],
   "source": [
    "test1[:,-1]=111\n",
    "test1"
   ]
  },
  {
   "cell_type": "markdown",
   "id": "f16cfca1",
   "metadata": {},
   "source": [
    "### Numpy da arifmetik amallar va operatorlar "
   ]
  },
  {
   "cell_type": "markdown",
   "id": "308717ea",
   "metadata": {
    "jp-MarkdownHeadingCollapsed": true
   },
   "source": [
    "### Numpy da massiv indexlari bilan ishlash"
   ]
  },
  {
   "cell_type": "code",
   "execution_count": 317,
   "id": "06246ca2-2e45-4c63-99cd-b075f408ddc1",
   "metadata": {},
   "outputs": [
    {
     "data": {
      "text/plain": [
       "array([4, 5, 6])"
      ]
     },
     "execution_count": 317,
     "metadata": {},
     "output_type": "execute_result"
    }
   ],
   "source": [
    "arr[3:6]"
   ]
  },
  {
   "cell_type": "code",
   "execution_count": 315,
   "id": "5ec358f5-9df6-4a6e-9091-ed7b2c638d24",
   "metadata": {},
   "outputs": [
    {
     "data": {
      "text/plain": [
       "array([ 1,  2,  3,  4,  5,  6,  7,  8,  9, 10, 11, 12, 13, 14, 15, 16, 17,\n",
       "       18, 19, 20, 21, 22, 23, 24])"
      ]
     },
     "execution_count": 315,
     "metadata": {},
     "output_type": "execute_result"
    }
   ],
   "source": [
    "arr"
   ]
  },
  {
   "cell_type": "code",
   "execution_count": 318,
   "id": "700439a8-2d3a-4ad3-87ec-de3ae8ab6f90",
   "metadata": {},
   "outputs": [
    {
     "data": {
      "text/plain": [
       "array([[ 1,  2,  3,  4,  5,  6],\n",
       "       [ 7,  8,  9, 10, 11, 12],\n",
       "       [13, 14, 15, 16, 17, 18],\n",
       "       [19, 20, 21, 22, 23, 24]])"
      ]
     },
     "execution_count": 318,
     "metadata": {},
     "output_type": "execute_result"
    }
   ],
   "source": [
    "massive = np.arange(1,25).reshape(4,6)\n",
    "massive"
   ]
  },
  {
   "cell_type": "code",
   "execution_count": 337,
   "id": "8e2f1bba-400b-4087-9b76-15db7d7241fc",
   "metadata": {},
   "outputs": [
    {
     "data": {
      "text/plain": [
       "array([[10, 11],\n",
       "       [16, 17]])"
      ]
     },
     "execution_count": 337,
     "metadata": {},
     "output_type": "execute_result"
    }
   ],
   "source": [
    "massive[1:3, 3:5]"
   ]
  },
  {
   "cell_type": "code",
   "execution_count": 343,
   "id": "607eb763-dc87-49d5-a535-0b93806975c0",
   "metadata": {},
   "outputs": [
    {
     "data": {
      "text/plain": [
       "array([[ 1,  2,  3,  4,  5,  0],\n",
       "       [ 7,  8,  9, 10, 11,  0],\n",
       "       [13, 14, 15, 16, 17,  0],\n",
       "       [19, 20, 21, 22, 23,  0]])"
      ]
     },
     "execution_count": 343,
     "metadata": {},
     "output_type": "execute_result"
    }
   ],
   "source": [
    "massive[:, -1] = 0\n",
    "massive"
   ]
  },
  {
   "cell_type": "code",
   "execution_count": 347,
   "id": "b590a8c7-c3de-4d77-933e-4f3c35472806",
   "metadata": {},
   "outputs": [
    {
     "data": {
      "text/plain": [
       "array([[  1, 222,   3,   4,   5,   0],\n",
       "       [  7,   8,   9,  10,  11,   0],\n",
       "       [ 13,  14,  15,  16,  17,   0],\n",
       "       [ 19,  20,  21,  22,  23,   0]])"
      ]
     },
     "execution_count": 347,
     "metadata": {},
     "output_type": "execute_result"
    }
   ],
   "source": [
    "massive[0,1]=222\n",
    "massive"
   ]
  },
  {
   "cell_type": "markdown",
   "id": "9307fa6a",
   "metadata": {
    "jp-MarkdownHeadingCollapsed": true
   },
   "source": [
    "### Massiv o'lchamlari bilan ishlash\n",
    "- reshape\n",
    "- ndim\n",
    "- resize"
   ]
  },
  {
   "cell_type": "code",
   "execution_count": 44,
   "id": "5344f7f4-126f-4583-8abd-155d313e81be",
   "metadata": {},
   "outputs": [
    {
     "name": "stdout",
     "output_type": "stream",
     "text": [
      "[ 1  2  3  4  5  6  7  8  9 10 11 12 13 14 15 16 17 18 19 20 21 22 23 24]\n",
      "24\n",
      "int32\n",
      "(24,)\n",
      "1\n"
     ]
    }
   ],
   "source": [
    "arr = np.arange(1, 25)\n",
    "print(arr)\n",
    "print(arr.size)\n",
    "print(arr.dtype)\n",
    "print(arr.shape)\n",
    "print(arr.ndim)"
   ]
  },
  {
   "cell_type": "code",
   "execution_count": 45,
   "id": "b86149eb-d46a-4692-a6ea-a9025d1efd3a",
   "metadata": {},
   "outputs": [
    {
     "name": "stdout",
     "output_type": "stream",
     "text": [
      "[ 1  2  3  4  5  6  7  8  9 10 11 12 13 14 15 16 17 18 19 20 21 22 23 24]\n",
      "\n",
      "\n",
      "[[ 1  2  3  4  5  6]\n",
      " [ 7  8  9 10 11 12]\n",
      " [13 14 15 16 17 18]\n",
      " [19 20 21 22 23 24]]\n"
     ]
    }
   ],
   "source": [
    "newarr = arr.reshape(4,6)\n",
    "print(arr)\n",
    "print('\\n')\n",
    "print(newarr)"
   ]
  },
  {
   "cell_type": "code",
   "execution_count": 46,
   "id": "206c27b1-331a-440f-9bb4-8431386ec831",
   "metadata": {},
   "outputs": [
    {
     "name": "stdout",
     "output_type": "stream",
     "text": [
      "24\n",
      "[[ 1  2  3  4  5  6]\n",
      " [ 7  8  9 10 11 12]\n",
      " [13 14 15 16 17 18]\n",
      " [19 20 21 22 23 24]]\n"
     ]
    }
   ],
   "source": [
    "print(newarr.size)\n",
    "print(newarr)"
   ]
  },
  {
   "cell_type": "code",
   "execution_count": 47,
   "id": "f19c1cf2-b6dc-481b-833f-365cb21da505",
   "metadata": {},
   "outputs": [
    {
     "data": {
      "text/plain": [
       "array([[ 1,  2,  3,  4,  5,  6,  7,  8],\n",
       "       [ 9, 10, 11, 12, 13, 14, 15, 16],\n",
       "       [17, 18, 19, 20, 21, 22, 23, 24]])"
      ]
     },
     "execution_count": 47,
     "metadata": {},
     "output_type": "execute_result"
    }
   ],
   "source": [
    "newarr2 = newarr.reshape(3,8)\n",
    "newarr2"
   ]
  },
  {
   "cell_type": "code",
   "execution_count": 48,
   "id": "4998547d-66df-4286-a343-c4c2d6744783",
   "metadata": {},
   "outputs": [
    {
     "data": {
      "text/plain": [
       "array([[ 1,  2,  3,  4,  5,  6],\n",
       "       [ 7,  8,  9, 10, 11, 12],\n",
       "       [13, 14, 15, 16, 17, 18],\n",
       "       [19, 20, 21, 22, 23, 24]])"
      ]
     },
     "execution_count": 48,
     "metadata": {},
     "output_type": "execute_result"
    }
   ],
   "source": [
    "newarr"
   ]
  },
  {
   "cell_type": "code",
   "execution_count": 50,
   "id": "824bc68a-3b27-4c26-9257-8d0bb1854c34",
   "metadata": {},
   "outputs": [
    {
     "name": "stdout",
     "output_type": "stream",
     "text": [
      "[[[ 1  2]\n",
      "  [ 3  4]\n",
      "  [ 5  6]]\n",
      "\n",
      " [[ 7  8]\n",
      "  [ 9 10]\n",
      "  [11 12]]]\n"
     ]
    }
   ],
   "source": [
    "arr = np.array([1, 2, 3, 4, 5, 6, 7, 8, 9, 10, 11, 12])\n",
    "\n",
    "newarr = arr.reshape(2, 3, 2)\n",
    "\n",
    "print(newarr)"
   ]
  },
  {
   "cell_type": "code",
   "execution_count": 51,
   "id": "7854ac1f-a18f-4db9-ab5b-7c5b710ca6b4",
   "metadata": {},
   "outputs": [
    {
     "name": "stdout",
     "output_type": "stream",
     "text": [
      "[1 2 3 4 5 6 7 8]\n"
     ]
    }
   ],
   "source": [
    "arr = np.array([1, 2, 3, 4, 5, 6, 7, 8])\n",
    "print(arr.reshape(2, 4).base)"
   ]
  },
  {
   "cell_type": "code",
   "execution_count": 52,
   "id": "dbdf8887-dde6-4926-b587-b5d8b0077e5e",
   "metadata": {},
   "outputs": [
    {
     "name": "stdout",
     "output_type": "stream",
     "text": [
      "[[[1 2]\n",
      "  [3 4]]\n",
      "\n",
      " [[5 6]\n",
      "  [7 8]]]\n"
     ]
    }
   ],
   "source": [
    "arr = np.array([1, 2, 3, 4, 5, 6, 7, 8])\n",
    "\n",
    "newarr = arr.reshape(2, 2, -1)\n",
    "\n",
    "print(newarr)"
   ]
  },
  {
   "cell_type": "code",
   "execution_count": 54,
   "id": "af60b591-a1bc-48e7-bb4f-10b551da9ca3",
   "metadata": {},
   "outputs": [
    {
     "name": "stdout",
     "output_type": "stream",
     "text": [
      "[1 2 3 4 5 6]\n"
     ]
    }
   ],
   "source": [
    "arr = np.array([[1, 2, 3], [4, 5, 6]])\n",
    "\n",
    "newarr = arr.reshape(-1)\n",
    "\n",
    "print(newarr)"
   ]
  },
  {
   "cell_type": "code",
   "execution_count": 58,
   "id": "48973973-5658-4daf-9a77-0fabc603c7b6",
   "metadata": {},
   "outputs": [
    {
     "data": {
      "text/plain": [
       "array([[[[[1, 2, 3, 4, 5, 6]]]]])"
      ]
     },
     "execution_count": 58,
     "metadata": {},
     "output_type": "execute_result"
    }
   ],
   "source": [
    "arr = np.array([1, 2, 3, 4, 5, 6], ndmin=5)\n",
    "arr"
   ]
  },
  {
   "cell_type": "code",
   "execution_count": 57,
   "id": "82ffcdb3-5e39-4b33-a22b-e8014b0526c2",
   "metadata": {},
   "outputs": [
    {
     "data": {
      "text/plain": [
       "array([[[[[1, 2, 3],\n",
       "          [4, 5, 6]]]]])"
      ]
     },
     "execution_count": 57,
     "metadata": {},
     "output_type": "execute_result"
    }
   ],
   "source": [
    "arr = np.array([[1, 2, 3], [4, 5, 6]], ndmin=5)\n",
    "arr"
   ]
  },
  {
   "cell_type": "markdown",
   "id": "a5c08b17-2054-430f-8f32-e4b40ca84eac",
   "metadata": {
    "jp-MarkdownHeadingCollapsed": true
   },
   "source": [
    "### Massiv elemetnlarini takroriyligi\n",
    "- for ts\n",
    "- nditer\n",
    "- ndenumerate"
   ]
  },
  {
   "cell_type": "code",
   "execution_count": 70,
   "id": "c720fc3b-6b23-4342-a07c-0578add3c206",
   "metadata": {},
   "outputs": [
    {
     "data": {
      "text/plain": [
       "array([ 1,  2,  3,  4,  5,  6,  7,  8,  9, 10, 11, 12, 13, 14, 15, 16, 17,\n",
       "       18, 19, 20, 21, 22, 23, 24])"
      ]
     },
     "execution_count": 70,
     "metadata": {},
     "output_type": "execute_result"
    }
   ],
   "source": [
    "massiv = np.arange(1,25)\n",
    "massiv"
   ]
  },
  {
   "cell_type": "code",
   "execution_count": 72,
   "id": "e8d8a71f-67a6-4641-b09b-2162d2cd3497",
   "metadata": {},
   "outputs": [
    {
     "data": {
      "text/plain": [
       "array([[ 1,  2,  3,  4],\n",
       "       [ 5,  6,  7,  8],\n",
       "       [ 9, 10, 11, 12],\n",
       "       [13, 14, 15, 16],\n",
       "       [17, 18, 19, 20],\n",
       "       [21, 22, 23, 24]])"
      ]
     },
     "execution_count": 72,
     "metadata": {},
     "output_type": "execute_result"
    }
   ],
   "source": [
    "my_massiv = massiv.reshape(6,4)\n",
    "my_massiv"
   ]
  },
  {
   "cell_type": "code",
   "execution_count": 77,
   "id": "cdb9518a-dce0-412c-94ac-6fadab34b0a9",
   "metadata": {},
   "outputs": [
    {
     "name": "stdout",
     "output_type": "stream",
     "text": [
      "1-qator- [1 2 3 4]\n",
      "2-qator- [5 6 7 8]\n",
      "3-qator- [ 9 10 11 12]\n",
      "4-qator- [13 14 15 16]\n",
      "5-qator- [17 18 19 20]\n",
      "6-qator- [21 22 23 24]\n"
     ]
    }
   ],
   "source": [
    "i = 1\n",
    "for row in my_massiv:\n",
    "    print(f'{i}-qator- {row}')\n",
    "    i +=1"
   ]
  },
  {
   "cell_type": "code",
   "execution_count": 79,
   "id": "e776cfc6-1699-480b-bf38-207314d6af51",
   "metadata": {},
   "outputs": [
    {
     "name": "stdout",
     "output_type": "stream",
     "text": [
      "1-qator indeksi 0- [1 2 3 4]\n",
      "2-qator indeksi 1- [5 6 7 8]\n",
      "3-qator indeksi 2- [ 9 10 11 12]\n",
      "4-qator indeksi 3- [13 14 15 16]\n",
      "5-qator indeksi 4- [17 18 19 20]\n",
      "6-qator indeksi 5- [21 22 23 24]\n"
     ]
    }
   ],
   "source": [
    "i = 0\n",
    "for row in my_massiv:\n",
    "    print(f'{i+1}-qator indeksi {i}- {row}')\n",
    "    i +=1"
   ]
  },
  {
   "cell_type": "code",
   "execution_count": 93,
   "id": "1c37cd03-93c0-4d65-bafe-5d0f6ad4a443",
   "metadata": {},
   "outputs": [
    {
     "name": "stdout",
     "output_type": "stream",
     "text": [
      "[[ 1  2  3  4]\n",
      " [ 5  6  7  8]\n",
      " [ 9 10 11 12]\n",
      " [13 14 15 16]\n",
      " [17 18 19 20]\n",
      " [21 22 23 24]]\n",
      "0:0 elemnt 1\n",
      "0:1 elemnt 2\n",
      "0:2 elemnt 3\n",
      "0:3 elemnt 4\n",
      "1:0 elemnt 5\n",
      "1:1 elemnt 6\n",
      "1:2 elemnt 7\n",
      "1:3 elemnt 8\n",
      "2:0 elemnt 9\n",
      "2:1 elemnt 10\n",
      "2:2 elemnt 11\n",
      "2:3 elemnt 12\n",
      "3:0 elemnt 13\n",
      "3:1 elemnt 14\n",
      "3:2 elemnt 15\n",
      "3:3 elemnt 16\n",
      "4:0 elemnt 17\n",
      "4:1 elemnt 18\n",
      "4:2 elemnt 19\n",
      "4:3 elemnt 20\n",
      "5:0 elemnt 21\n",
      "5:1 elemnt 22\n",
      "5:2 elemnt 23\n",
      "5:3 elemnt 24\n"
     ]
    }
   ],
   "source": [
    "print(my_massiv)\n",
    "i = 0\n",
    "for row in my_massiv:\n",
    "    j=0\n",
    "    for element in row:\n",
    "        print(f'{i}:{j} elemnt {element}')\n",
    "        j +=1\n",
    "    i +=1"
   ]
  },
  {
   "cell_type": "code",
   "execution_count": 95,
   "id": "72603573-9458-4c53-a647-738842039cb3",
   "metadata": {},
   "outputs": [
    {
     "name": "stdout",
     "output_type": "stream",
     "text": [
      "1\n",
      "2\n",
      "3\n",
      "4\n",
      "5\n",
      "6\n",
      "7\n",
      "8\n",
      "<numpy.nditer object at 0x000002B9EEBABEB0>\n"
     ]
    }
   ],
   "source": [
    "arr = np.array([[[1, 2], [3, 4]], [[5, 6], [7, 8]]])\n",
    "\n",
    "for x in np.nditer(arr):\n",
    "  print(x)\n",
    "print(np.nditer(arr))"
   ]
  },
  {
   "cell_type": "code",
   "execution_count": 100,
   "id": "11bbfc0c-e2a6-4714-941d-21a5dd71c9f7",
   "metadata": {},
   "outputs": [
    {
     "name": "stdout",
     "output_type": "stream",
     "text": [
      "(0, 0) 1\n",
      "(0, 1) 2\n",
      "(0, 2) 3\n",
      "(0, 3) 4\n",
      "(1, 0) 5\n",
      "(1, 1) 6\n",
      "(1, 2) 7\n",
      "(1, 3) 8\n",
      "(2, 0) 9\n",
      "(2, 1) 10\n",
      "(2, 2) 11\n",
      "(2, 3) 12\n",
      "(3, 0) 13\n",
      "(3, 1) 14\n",
      "(3, 2) 15\n",
      "(3, 3) 16\n",
      "(4, 0) 17\n",
      "(4, 1) 18\n",
      "(4, 2) 19\n",
      "(4, 3) 20\n",
      "(5, 0) 21\n",
      "(5, 1) 22\n",
      "(5, 2) 23\n",
      "(5, 3) 24\n"
     ]
    }
   ],
   "source": [
    "for idx, x in np.ndenumerate(my_massiv):\n",
    "  print(idx, x)"
   ]
  },
  {
   "cell_type": "markdown",
   "id": "6c775e22",
   "metadata": {
    "jp-MarkdownHeadingCollapsed": true
   },
   "source": [
    "### Massivlar ustida arifmetik amallar"
   ]
  },
  {
   "cell_type": "code",
   "execution_count": 116,
   "id": "4c9f66c6-f2a5-4d01-bcb7-43ea1f3f31fb",
   "metadata": {},
   "outputs": [
    {
     "data": {
      "text/plain": [
       "array([[ 1,  2,  3],\n",
       "       [ 4,  5,  6],\n",
       "       [ 7,  8,  9],\n",
       "       [10, 11, 12]])"
      ]
     },
     "execution_count": 116,
     "metadata": {},
     "output_type": "execute_result"
    }
   ],
   "source": [
    "matem = np.arange(1,13).reshape(4,3)\n",
    "matem"
   ]
  },
  {
   "cell_type": "code",
   "execution_count": 120,
   "id": "ff24778c-d36c-4522-bb9b-efc72b846078",
   "metadata": {},
   "outputs": [
    {
     "name": "stdout",
     "output_type": "stream",
     "text": [
      "[[False False False]\n",
      " [False False  True]\n",
      " [ True  True  True]\n",
      " [ True  True  True]]\n"
     ]
    }
   ],
   "source": [
    "print(matem>5)"
   ]
  },
  {
   "cell_type": "code",
   "execution_count": 119,
   "id": "c54f42d3-bb5e-4696-add3-123cc965860a",
   "metadata": {},
   "outputs": [
    {
     "name": "stdout",
     "output_type": "stream",
     "text": [
      "[[ True  True  True]\n",
      " [ True False False]\n",
      " [False False False]\n",
      " [False False False]]\n"
     ]
    }
   ],
   "source": [
    "print(matem<5)"
   ]
  },
  {
   "cell_type": "code",
   "execution_count": 127,
   "id": "8e64fde1-9701-471f-959b-833cdf4c53eb",
   "metadata": {},
   "outputs": [
    {
     "data": {
      "text/plain": [
       "array([ 5,  6,  7,  8,  9, 10, 11, 12])"
      ]
     },
     "execution_count": 127,
     "metadata": {},
     "output_type": "execute_result"
    }
   ],
   "source": [
    "new_matem = matem[matem>4]\n",
    "new_matem"
   ]
  },
  {
   "cell_type": "code",
   "execution_count": 128,
   "id": "5413d720-73c9-46d8-979f-d503cc1900e6",
   "metadata": {},
   "outputs": [
    {
     "name": "stdout",
     "output_type": "stream",
     "text": [
      "1\n",
      "int32\n",
      "(8,)\n",
      "8\n"
     ]
    }
   ],
   "source": [
    "print(new_matem.ndim)\n",
    "print(new_matem.dtype)\n",
    "print(new_matem.shape)\n",
    "print(new_matem.size)"
   ]
  },
  {
   "cell_type": "code",
   "execution_count": 129,
   "id": "93cb1ab2-d6bc-47fc-8e62-3d194f74e2a1",
   "metadata": {},
   "outputs": [
    {
     "data": {
      "text/plain": [
       "array([[ 5,  6],\n",
       "       [ 7,  8],\n",
       "       [ 9, 10],\n",
       "       [11, 12]])"
      ]
     },
     "execution_count": 129,
     "metadata": {},
     "output_type": "execute_result"
    }
   ],
   "source": [
    "new_matem2 = new_matem.reshape(4,2)\n",
    "new_matem2"
   ]
  },
  {
   "cell_type": "code",
   "execution_count": 133,
   "id": "ba3b382f-aa9a-4720-a728-ee871c53e033",
   "metadata": {},
   "outputs": [
    {
     "data": {
      "text/plain": [
       "array([1, 2, 3, 4, 5, 6, 7, 8])"
      ]
     },
     "execution_count": 133,
     "metadata": {},
     "output_type": "execute_result"
    }
   ],
   "source": [
    "birinchi = np.arange(1,9)\n",
    "birinchi"
   ]
  },
  {
   "cell_type": "code",
   "execution_count": 134,
   "id": "f7bba6d3-c208-4841-bc33-935363af4b3e",
   "metadata": {},
   "outputs": [
    {
     "data": {
      "text/plain": [
       "array([ 2,  4,  6,  8, 10, 12, 14, 16])"
      ]
     },
     "execution_count": 134,
     "metadata": {},
     "output_type": "execute_result"
    }
   ],
   "source": [
    "birinchi * 2"
   ]
  },
  {
   "cell_type": "code",
   "execution_count": 136,
   "id": "b75fda89-a747-426f-89d8-7dd88d24295a",
   "metadata": {},
   "outputs": [
    {
     "data": {
      "text/plain": [
       "array([0.5, 1. , 1.5, 2. , 2.5, 3. , 3.5, 4. ])"
      ]
     },
     "execution_count": 136,
     "metadata": {},
     "output_type": "execute_result"
    }
   ],
   "source": [
    "birinchi / 2"
   ]
  },
  {
   "cell_type": "code",
   "execution_count": 137,
   "id": "79348c30-628d-4045-9188-5217313a7b79",
   "metadata": {},
   "outputs": [
    {
     "data": {
      "text/plain": [
       "array([11, 12, 13, 14, 15, 16, 17, 18])"
      ]
     },
     "execution_count": 137,
     "metadata": {},
     "output_type": "execute_result"
    }
   ],
   "source": [
    "birinchi + 10"
   ]
  },
  {
   "cell_type": "code",
   "execution_count": 138,
   "id": "7576619b-30ef-4ac7-9f2b-3d823765d0c7",
   "metadata": {},
   "outputs": [
    {
     "data": {
      "text/plain": [
       "array([-9, -8, -7, -6, -5, -4, -3, -2])"
      ]
     },
     "execution_count": 138,
     "metadata": {},
     "output_type": "execute_result"
    }
   ],
   "source": [
    "birinchi - 10"
   ]
  },
  {
   "cell_type": "code",
   "execution_count": 139,
   "id": "05e671d6-0fbf-487e-ba70-ccc29c125a00",
   "metadata": {},
   "outputs": [
    {
     "data": {
      "text/plain": [
       "array([ 1,  4,  9, 16, 25, 36, 49, 64])"
      ]
     },
     "execution_count": 139,
     "metadata": {},
     "output_type": "execute_result"
    }
   ],
   "source": [
    "birinchi ** 2"
   ]
  },
  {
   "cell_type": "code",
   "execution_count": 140,
   "id": "e03d8413-cbb2-4b65-9aee-1fe5ec4ee898",
   "metadata": {},
   "outputs": [
    {
     "data": {
      "text/plain": [
       "array([[ 1,  2,  3],\n",
       "       [ 4,  5,  6],\n",
       "       [ 7,  8,  9],\n",
       "       [10, 11, 12]])"
      ]
     },
     "execution_count": 140,
     "metadata": {},
     "output_type": "execute_result"
    }
   ],
   "source": [
    "matem"
   ]
  },
  {
   "cell_type": "code",
   "execution_count": 141,
   "id": "73cee88a-7fb5-4bf0-a46e-673dc4506407",
   "metadata": {},
   "outputs": [
    {
     "data": {
      "text/plain": [
       "array([[ 2,  4,  6],\n",
       "       [ 8, 10, 12],\n",
       "       [14, 16, 18],\n",
       "       [20, 22, 24]])"
      ]
     },
     "execution_count": 141,
     "metadata": {},
     "output_type": "execute_result"
    }
   ],
   "source": [
    "matem * 2"
   ]
  },
  {
   "cell_type": "code",
   "execution_count": 184,
   "id": "5b3de855-1caf-4b18-baf0-11deb5a2b026",
   "metadata": {},
   "outputs": [
    {
     "data": {
      "text/plain": [
       "array([[  1,   4,   9],\n",
       "       [ 16,  25,  36],\n",
       "       [ 49,  64,  81],\n",
       "       [100, 121, 144]])"
      ]
     },
     "execution_count": 184,
     "metadata": {},
     "output_type": "execute_result"
    }
   ],
   "source": [
    "np.square(matem)"
   ]
  },
  {
   "cell_type": "code",
   "execution_count": 143,
   "id": "bca7d659-4bb7-40f9-9354-fe60554f184f",
   "metadata": {},
   "outputs": [
    {
     "data": {
      "text/plain": [
       "array([[0.5, 1. , 1.5],\n",
       "       [2. , 2.5, 3. ],\n",
       "       [3.5, 4. , 4.5],\n",
       "       [5. , 5.5, 6. ]])"
      ]
     },
     "execution_count": 143,
     "metadata": {},
     "output_type": "execute_result"
    }
   ],
   "source": [
    "matem ** 1/2"
   ]
  },
  {
   "cell_type": "code",
   "execution_count": 185,
   "id": "b4888ad1-74ce-4389-950d-b56d808dbb87",
   "metadata": {},
   "outputs": [
    {
     "data": {
      "text/plain": [
       "array([[1.        , 1.41421356, 1.73205081],\n",
       "       [2.        , 2.23606798, 2.44948974],\n",
       "       [2.64575131, 2.82842712, 3.        ],\n",
       "       [3.16227766, 3.31662479, 3.46410162]])"
      ]
     },
     "execution_count": 185,
     "metadata": {},
     "output_type": "execute_result"
    }
   ],
   "source": [
    "np.sqrt(matem)"
   ]
  },
  {
   "cell_type": "code",
   "execution_count": 234,
   "id": "272f765f-1d48-4c0c-813b-da996ab9ce15",
   "metadata": {},
   "outputs": [
    {
     "name": "stdout",
     "output_type": "stream",
     "text": [
      "[      1000    3200000  729000000 -520093696       2500          0]\n"
     ]
    }
   ],
   "source": [
    "arr1 = np.array([10, 20, 30, 40, 50, 60])\n",
    "arr2 = np.array([3, 5, 6, 8, 2, 33])\n",
    "\n",
    "newarr = np.power(arr1, arr2)\n",
    "\n",
    "print(newarr)"
   ]
  },
  {
   "cell_type": "code",
   "execution_count": 235,
   "id": "25e39dbb-ee2d-473e-af40-875c3a1b0965",
   "metadata": {},
   "outputs": [
    {
     "name": "stdout",
     "output_type": "stream",
     "text": [
      "[ 1  6  3  0  0 27]\n"
     ]
    }
   ],
   "source": [
    "arr1 = np.array([10, 20, 30, 40, 50, 60])\n",
    "arr2 = np.array([3, 7, 9, 8, 2, 33])\n",
    "\n",
    "newarr = np.mod(arr1, arr2)\n",
    "\n",
    "print(newarr)"
   ]
  },
  {
   "cell_type": "code",
   "execution_count": 236,
   "id": "c33d9620-ed07-498f-8039-77788d6bc090",
   "metadata": {},
   "outputs": [
    {
     "name": "stdout",
     "output_type": "stream",
     "text": [
      "[ 1  6  3  0  0 27]\n"
     ]
    }
   ],
   "source": [
    "arr1 = np.array([10, 20, 30, 40, 50, 60])\n",
    "arr2 = np.array([3, 7, 9, 8, 2, 33])\n",
    "\n",
    "newarr = np.remainder(arr1, arr2)\n",
    "\n",
    "print(newarr)"
   ]
  },
  {
   "cell_type": "code",
   "execution_count": 237,
   "id": "5a838a4a-4d27-4d36-8979-3b664f3028b3",
   "metadata": {},
   "outputs": [
    {
     "name": "stdout",
     "output_type": "stream",
     "text": [
      "(array([ 3,  2,  3,  5, 25,  1]), array([ 1,  6,  3,  0,  0, 27]))\n"
     ]
    }
   ],
   "source": [
    "arr1 = np.array([10, 20, 30, 40, 50, 60])\n",
    "arr2 = np.array([3, 7, 9, 8, 2, 33])\n",
    "\n",
    "newarr = np.divmod(arr1, arr2)\n",
    "\n",
    "print(newarr)"
   ]
  },
  {
   "cell_type": "code",
   "execution_count": 238,
   "id": "3e984348-8771-4d9b-9429-de70861698e8",
   "metadata": {},
   "outputs": [
    {
     "name": "stdout",
     "output_type": "stream",
     "text": [
      "[1 2 1 2 3 4]\n"
     ]
    }
   ],
   "source": [
    "arr = np.array([-1, -2, 1, 2, 3, -4])\n",
    "\n",
    "newarr = np.absolute(arr)\n",
    "\n",
    "print(newarr)"
   ]
  },
  {
   "cell_type": "code",
   "execution_count": null,
   "id": "f52eb325-b21b-4591-80a9-f7c3864b7c1e",
   "metadata": {},
   "outputs": [],
   "source": []
  },
  {
   "cell_type": "code",
   "execution_count": 146,
   "id": "a277dbc1-a1d1-4819-8e4a-007fee87d91f",
   "metadata": {},
   "outputs": [
    {
     "name": "stdout",
     "output_type": "stream",
     "text": [
      "36\n",
      "[1 2 3 4 5 6 7 8]\n"
     ]
    }
   ],
   "source": [
    "print(sum(birinchi))\n",
    "print(birinchi)"
   ]
  },
  {
   "cell_type": "code",
   "execution_count": 164,
   "id": "ddfffdba-c683-437d-b289-92b13b41183e",
   "metadata": {},
   "outputs": [
    {
     "name": "stdout",
     "output_type": "stream",
     "text": [
      "[[ 1  2  3]\n",
      " [ 4  5  6]\n",
      " [ 7  8  9]\n",
      " [10 11 12]]\n",
      "massiv elementlari barchasini yigindisi 78\n",
      "massiv elementlari ustun yigindisi [22 26 30]\n",
      "massiv elementlari qator yigindisi [ 6 15 24 33]\n"
     ]
    }
   ],
   "source": [
    "print(matem)\n",
    "# print('\\n')\n",
    "print(f'massiv elementlari barchasini yigindisi {np.sum(matem)}')\n",
    "# print('\\n')\n",
    "print(f'massiv elementlari ustun yigindisi {np.sum(matem, axis=0)}')\n",
    "# print('\\n')\n",
    "print(f'massiv elementlari qator yigindisi {np.sum(matem, axis=1)}')"
   ]
  },
  {
   "cell_type": "code",
   "execution_count": 158,
   "id": "0c3366ee-4f90-4748-b586-aca9b0ffcd29",
   "metadata": {},
   "outputs": [
    {
     "name": "stdout",
     "output_type": "stream",
     "text": [
      "massiv elementlari yigindisi 78\n"
     ]
    }
   ],
   "source": [
    "print(f'massiv elementlari barchasini yigindisi {np.sum(matem)}')"
   ]
  },
  {
   "cell_type": "code",
   "execution_count": 159,
   "id": "4f882b1f-eb45-46ad-b032-eb87983514d5",
   "metadata": {},
   "outputs": [
    {
     "name": "stdout",
     "output_type": "stream",
     "text": [
      "massiv elementlari yigindisi [22 26 30]\n"
     ]
    }
   ],
   "source": [
    "print(f'massiv elementlari yigindisi {np.sum(matem, axis=0)}')"
   ]
  },
  {
   "cell_type": "code",
   "execution_count": 160,
   "id": "bb9d2934-1009-4b37-829b-6aa32d10cb2f",
   "metadata": {},
   "outputs": [
    {
     "name": "stdout",
     "output_type": "stream",
     "text": [
      "massiv elementlari yigindisi [ 6 15 24 33]\n"
     ]
    }
   ],
   "source": [
    "print(f'massiv elementlari yigindisi {np.sum(matem, axis=1)}')"
   ]
  },
  {
   "cell_type": "code",
   "execution_count": 165,
   "id": "dd4eb3ee-6452-41a7-8196-2e10f5f5f3b6",
   "metadata": {},
   "outputs": [
    {
     "data": {
      "text/plain": [
       "array([1, 2, 3, 4, 5, 6, 7, 8])"
      ]
     },
     "execution_count": 165,
     "metadata": {},
     "output_type": "execute_result"
    }
   ],
   "source": [
    "birinchi"
   ]
  },
  {
   "cell_type": "code",
   "execution_count": 167,
   "id": "fd4d6305-165f-445e-8a8d-c48d44e47c25",
   "metadata": {},
   "outputs": [
    {
     "data": {
      "text/plain": [
       "array([ 9, 10, 11, 12, 13, 14, 15, 16])"
      ]
     },
     "execution_count": 167,
     "metadata": {},
     "output_type": "execute_result"
    }
   ],
   "source": [
    "ikkinchi = np.arange(9, 17)\n",
    "ikkinchi"
   ]
  },
  {
   "cell_type": "code",
   "execution_count": 168,
   "id": "32442e60-bacf-4f47-a39e-a834eec86945",
   "metadata": {},
   "outputs": [
    {
     "name": "stdout",
     "output_type": "stream",
     "text": [
      "[10 12 14 16 18 20 22 24]\n"
     ]
    }
   ],
   "source": [
    "print(birinchi + ikkinchi)"
   ]
  },
  {
   "cell_type": "code",
   "execution_count": 171,
   "id": "86ec7d8f-90e5-40a4-af78-403c8fb028d0",
   "metadata": {},
   "outputs": [
    {
     "data": {
      "text/plain": [
       "array([10, 12, 14, 16, 18, 20, 22, 24])"
      ]
     },
     "execution_count": 171,
     "metadata": {},
     "output_type": "execute_result"
    }
   ],
   "source": [
    "np.add(birinchi, ikkinchi)"
   ]
  },
  {
   "cell_type": "code",
   "execution_count": 173,
   "id": "80a120d1-69ee-4f16-b0ea-307e95c87409",
   "metadata": {},
   "outputs": [
    {
     "name": "stdout",
     "output_type": "stream",
     "text": [
      "[-8 -8 -8 -8 -8 -8 -8 -8]\n"
     ]
    }
   ],
   "source": [
    "print(birinchi - ikkinchi)"
   ]
  },
  {
   "cell_type": "code",
   "execution_count": 174,
   "id": "68511e01-f46a-48cc-9176-79746f8b00d8",
   "metadata": {},
   "outputs": [
    {
     "data": {
      "text/plain": [
       "array([-8, -8, -8, -8, -8, -8, -8, -8])"
      ]
     },
     "execution_count": 174,
     "metadata": {},
     "output_type": "execute_result"
    }
   ],
   "source": [
    "np.subtract(birinchi, ikkinchi)"
   ]
  },
  {
   "cell_type": "code",
   "execution_count": 176,
   "id": "1bc66a33-b293-46f7-bc51-59dc93c9ee5c",
   "metadata": {},
   "outputs": [
    {
     "name": "stdout",
     "output_type": "stream",
     "text": [
      "[  9  20  33  48  65  84 105 128]\n"
     ]
    }
   ],
   "source": [
    "print(birinchi * ikkinchi)"
   ]
  },
  {
   "cell_type": "code",
   "execution_count": 177,
   "id": "be3f59bc-af6c-4096-b9b5-0d252a482d05",
   "metadata": {},
   "outputs": [
    {
     "data": {
      "text/plain": [
       "array([  9,  20,  33,  48,  65,  84, 105, 128])"
      ]
     },
     "execution_count": 177,
     "metadata": {},
     "output_type": "execute_result"
    }
   ],
   "source": [
    "np.multiply(birinchi, ikkinchi)"
   ]
  },
  {
   "cell_type": "code",
   "execution_count": 178,
   "id": "331de8b9-df6b-4086-8355-e02b2ee8aa36",
   "metadata": {},
   "outputs": [
    {
     "name": "stdout",
     "output_type": "stream",
     "text": [
      "[0.11111111 0.2        0.27272727 0.33333333 0.38461538 0.42857143\n",
      " 0.46666667 0.5       ]\n"
     ]
    }
   ],
   "source": [
    "print(birinchi / ikkinchi)"
   ]
  },
  {
   "cell_type": "code",
   "execution_count": 179,
   "id": "6a3869f5-174e-4cb3-9e77-cdf97211bc48",
   "metadata": {},
   "outputs": [
    {
     "data": {
      "text/plain": [
       "array([0.11111111, 0.2       , 0.27272727, 0.33333333, 0.38461538,\n",
       "       0.42857143, 0.46666667, 0.5       ])"
      ]
     },
     "execution_count": 179,
     "metadata": {},
     "output_type": "execute_result"
    }
   ],
   "source": [
    "np.divide(birinchi, ikkinchi)"
   ]
  },
  {
   "cell_type": "code",
   "execution_count": 180,
   "id": "3a0a1fb6-f80e-4959-bab4-6c6b3d0e7fb1",
   "metadata": {},
   "outputs": [
    {
     "data": {
      "text/plain": [
       "array([1.        , 1.41421356, 1.73205081, 2.        , 2.23606798,\n",
       "       2.44948974, 2.64575131, 2.82842712])"
      ]
     },
     "execution_count": 180,
     "metadata": {},
     "output_type": "execute_result"
    }
   ],
   "source": [
    "np.sqrt(birinchi)"
   ]
  },
  {
   "cell_type": "code",
   "execution_count": 188,
   "id": "914a5491-fbfd-4940-93c5-b03380cc7e99",
   "metadata": {},
   "outputs": [
    {
     "ename": "ValueError",
     "evalue": "operands could not be broadcast together with shapes (8,) (4,3) ",
     "output_type": "error",
     "traceback": [
      "\u001b[1;31m---------------------------------------------------------------------------\u001b[0m",
      "\u001b[1;31mValueError\u001b[0m                                Traceback (most recent call last)",
      "Cell \u001b[1;32mIn[188], line 1\u001b[0m\n\u001b[1;32m----> 1\u001b[0m \u001b[43mbirinchi\u001b[49m\u001b[43m \u001b[49m\u001b[38;5;241;43m+\u001b[39;49m\u001b[43m \u001b[49m\u001b[43mmatem\u001b[49m\n",
      "\u001b[1;31mValueError\u001b[0m: operands could not be broadcast together with shapes (8,) (4,3) "
     ]
    }
   ],
   "source": [
    "birinchi + matem"
   ]
  },
  {
   "cell_type": "code",
   "execution_count": 189,
   "id": "7682c6c0-af3b-4fd7-9a3d-a5032a1ad9b5",
   "metadata": {},
   "outputs": [
    {
     "data": {
      "text/plain": [
       "array([[1, 2, 3],\n",
       "       [4, 5, 6],\n",
       "       [7, 8, 9]])"
      ]
     },
     "execution_count": 189,
     "metadata": {},
     "output_type": "execute_result"
    }
   ],
   "source": [
    "bir = np.arange(1,10).reshape(3,3)\n",
    "bir"
   ]
  },
  {
   "cell_type": "code",
   "execution_count": 192,
   "id": "f093e979-1e47-4292-b322-70add21c34c3",
   "metadata": {},
   "outputs": [
    {
     "data": {
      "text/plain": [
       "array([[10],\n",
       "       [10],\n",
       "       [10]])"
      ]
     },
     "execution_count": 192,
     "metadata": {},
     "output_type": "execute_result"
    }
   ],
   "source": [
    "ikki = np.array([10,10,10])\n",
    "uch = ikki.reshape(3,1)\n",
    "uch"
   ]
  },
  {
   "cell_type": "code",
   "execution_count": 191,
   "id": "01ab5bca-74d7-42ff-a730-7f888f5f272d",
   "metadata": {},
   "outputs": [
    {
     "data": {
      "text/plain": [
       "array([[11, 12, 13],\n",
       "       [14, 15, 16],\n",
       "       [17, 18, 19]])"
      ]
     },
     "execution_count": 191,
     "metadata": {},
     "output_type": "execute_result"
    }
   ],
   "source": [
    "bir+ikki"
   ]
  },
  {
   "cell_type": "code",
   "execution_count": 193,
   "id": "287a43a4-dcac-46de-8be0-d380c34d6f7d",
   "metadata": {},
   "outputs": [
    {
     "data": {
      "text/plain": [
       "array([[11, 12, 13],\n",
       "       [14, 15, 16],\n",
       "       [17, 18, 19]])"
      ]
     },
     "execution_count": 193,
     "metadata": {},
     "output_type": "execute_result"
    }
   ],
   "source": [
    "bir+uch"
   ]
  },
  {
   "cell_type": "code",
   "execution_count": 239,
   "id": "0ad678ed-76a3-44cf-a652-3e1842494641",
   "metadata": {},
   "outputs": [
    {
     "name": "stdout",
     "output_type": "stream",
     "text": [
      "[-3.  3.]\n"
     ]
    }
   ],
   "source": [
    "arr = np.trunc([-3.1666, 3.6667])\n",
    "\n",
    "print(arr)"
   ]
  },
  {
   "cell_type": "code",
   "execution_count": 240,
   "id": "6044bde7-c26b-4cbe-8ab8-2df84e6f0525",
   "metadata": {},
   "outputs": [
    {
     "name": "stdout",
     "output_type": "stream",
     "text": [
      "3.17\n"
     ]
    }
   ],
   "source": [
    "arr = np.around(3.1666, 2)\n",
    "\n",
    "print(arr)"
   ]
  },
  {
   "cell_type": "markdown",
   "id": "7735b250-2a10-4e7d-9dd8-e77458bf54bd",
   "metadata": {
    "jp-MarkdownHeadingCollapsed": true
   },
   "source": [
    "### Massivlarni birlashtirish"
   ]
  },
  {
   "cell_type": "code",
   "execution_count": 214,
   "id": "9f65f805-cafd-4620-9301-2335cd876834",
   "metadata": {},
   "outputs": [
    {
     "name": "stdout",
     "output_type": "stream",
     "text": [
      "[1 2 3 4 5 6]\n"
     ]
    }
   ],
   "source": [
    "arr1 = np.array([1, 2, 3])\n",
    "\n",
    "arr2 = np.array([4, 5, 6])\n",
    "\n",
    "arr = np.concatenate((arr1, arr2))\n",
    "\n",
    "print(arr)"
   ]
  },
  {
   "cell_type": "code",
   "execution_count": 215,
   "id": "59c6810d-809e-4feb-9d2b-85cf19157c52",
   "metadata": {},
   "outputs": [
    {
     "name": "stdout",
     "output_type": "stream",
     "text": [
      "[[1 2 5 6]\n",
      " [3 4 7 8]]\n"
     ]
    }
   ],
   "source": [
    "arr1 = np.array([[1, 2], [3, 4]])\n",
    "\n",
    "arr2 = np.array([[5, 6], [7, 8]])\n",
    "\n",
    "arr = np.concatenate((arr1, arr2), axis=1)\n",
    "\n",
    "print(arr)"
   ]
  },
  {
   "cell_type": "code",
   "execution_count": 218,
   "id": "5a17701d-3882-4145-b998-c4e5a230912b",
   "metadata": {},
   "outputs": [
    {
     "name": "stdout",
     "output_type": "stream",
     "text": [
      "[[1 2 3]\n",
      " [4 5 6]]\n"
     ]
    }
   ],
   "source": [
    "arr1 = np.array([1, 2, 3])\n",
    "\n",
    "arr2 = np.array([4, 5, 6])\n",
    "\n",
    "arr = np.stack((arr1, arr2), axis=0)\n",
    "\n",
    "print(arr)"
   ]
  },
  {
   "cell_type": "code",
   "execution_count": 216,
   "id": "e9b6dd19-1cf3-4838-b14d-d752d8b328dc",
   "metadata": {},
   "outputs": [
    {
     "name": "stdout",
     "output_type": "stream",
     "text": [
      "[[1 4]\n",
      " [2 5]\n",
      " [3 6]]\n"
     ]
    }
   ],
   "source": [
    "arr1 = np.array([1, 2, 3])\n",
    "\n",
    "arr2 = np.array([4, 5, 6])\n",
    "\n",
    "arr = np.stack((arr1, arr2), axis=1)\n",
    "\n",
    "print(arr)"
   ]
  },
  {
   "cell_type": "code",
   "execution_count": 219,
   "id": "e9bdc27a-08b6-4284-b177-cdb5a43a8dea",
   "metadata": {},
   "outputs": [
    {
     "name": "stdout",
     "output_type": "stream",
     "text": [
      "[1 2 3 4 5 6]\n"
     ]
    }
   ],
   "source": [
    "arr1 = np.array([1, 2, 3])\n",
    "\n",
    "arr2 = np.array([4, 5, 6])\n",
    "\n",
    "arr = np.hstack((arr1, arr2))\n",
    "\n",
    "print(arr)"
   ]
  },
  {
   "cell_type": "code",
   "execution_count": 220,
   "id": "4d838409-2150-4637-83fa-ae40331586c7",
   "metadata": {},
   "outputs": [
    {
     "name": "stdout",
     "output_type": "stream",
     "text": [
      "[[1 2 3]\n",
      " [4 5 6]]\n"
     ]
    }
   ],
   "source": [
    "arr1 = np.array([1, 2, 3])\n",
    "\n",
    "arr2 = np.array([4, 5, 6])\n",
    "\n",
    "arr = np.vstack((arr1, arr2))\n",
    "\n",
    "print(arr)"
   ]
  },
  {
   "cell_type": "code",
   "execution_count": 221,
   "id": "0e240e92-8329-41bb-9283-d767feb21383",
   "metadata": {},
   "outputs": [
    {
     "name": "stdout",
     "output_type": "stream",
     "text": [
      "[[[1 4]\n",
      "  [2 5]\n",
      "  [3 6]]]\n"
     ]
    }
   ],
   "source": [
    "arr1 = np.array([1, 2, 3])\n",
    "\n",
    "arr2 = np.array([4, 5, 6])\n",
    "\n",
    "arr = np.dstack((arr1, arr2))\n",
    "\n",
    "print(arr)"
   ]
  },
  {
   "cell_type": "markdown",
   "id": "5a221651-899b-4d14-9bdc-b2b8d283972e",
   "metadata": {},
   "source": [
    "### Massivlarni ajratish"
   ]
  },
  {
   "cell_type": "code",
   "execution_count": null,
   "id": "47bce041-442f-49b4-97f5-edd2b06f6d68",
   "metadata": {},
   "outputs": [],
   "source": []
  },
  {
   "cell_type": "code",
   "execution_count": 226,
   "id": "e2726398-e0cb-40f1-b36d-4cc2cf3777a3",
   "metadata": {},
   "outputs": [
    {
     "name": "stdout",
     "output_type": "stream",
     "text": [
      "[array([1, 2]), array([3, 4]), array([5, 6])]\n"
     ]
    }
   ],
   "source": [
    "arr = np.array([1, 2, 3, 4, 5, 6])\n",
    "\n",
    "newarr = np.array_split(arr, 3)\n",
    "\n",
    "print(newarr)"
   ]
  },
  {
   "cell_type": "code",
   "execution_count": 227,
   "id": "b1949930-0f12-4fd6-9f91-f7a63a87e38b",
   "metadata": {},
   "outputs": [
    {
     "name": "stdout",
     "output_type": "stream",
     "text": [
      "[1 2]\n",
      "[3 4]\n",
      "[5 6]\n"
     ]
    }
   ],
   "source": [
    "print(newarr[0])\n",
    "print(newarr[1])\n",
    "print(newarr[2])"
   ]
  },
  {
   "cell_type": "code",
   "execution_count": 228,
   "id": "9516ce11-1505-4cf2-bbbd-8ae402bfe4d8",
   "metadata": {},
   "outputs": [
    {
     "name": "stdout",
     "output_type": "stream",
     "text": [
      "[array([[1, 2],\n",
      "       [3, 4]]), array([[5, 6],\n",
      "       [7, 8]]), array([[ 9, 10],\n",
      "       [11, 12]])]\n"
     ]
    }
   ],
   "source": [
    "arr = np.array([[1, 2], [3, 4], [5, 6], [7, 8], [9, 10], [11, 12]])\n",
    "\n",
    "newarr = np.array_split(arr, 3)\n",
    "\n",
    "print(newarr)"
   ]
  },
  {
   "cell_type": "code",
   "execution_count": 229,
   "id": "2640a65e-57c6-46bd-9963-bbdb4bb78293",
   "metadata": {},
   "outputs": [
    {
     "name": "stdout",
     "output_type": "stream",
     "text": [
      "[[1 2]\n",
      " [3 4]]\n",
      "[[5 6]\n",
      " [7 8]]\n",
      "[[ 9 10]\n",
      " [11 12]]\n"
     ]
    }
   ],
   "source": [
    "print(newarr[0])\n",
    "print(newarr[1])\n",
    "print(newarr[2])"
   ]
  },
  {
   "cell_type": "code",
   "execution_count": 230,
   "id": "34cf1ad1-8c96-4fad-90de-207e882b6e8c",
   "metadata": {},
   "outputs": [
    {
     "name": "stdout",
     "output_type": "stream",
     "text": [
      "[array([[1, 2, 3],\n",
      "       [4, 5, 6]]), array([[ 7,  8,  9],\n",
      "       [10, 11, 12]]), array([[13, 14, 15],\n",
      "       [16, 17, 18]])]\n"
     ]
    }
   ],
   "source": [
    "arr = np.array([[1, 2, 3], [4, 5, 6], [7, 8, 9], [10, 11, 12], [13, 14, 15], [16, 17, 18]])\n",
    "\n",
    "newarr = np.array_split(arr, 3)\n",
    "\n",
    "print(newarr)"
   ]
  },
  {
   "cell_type": "code",
   "execution_count": 232,
   "id": "960d8e9c-d43a-4077-ab19-6aab35fc934d",
   "metadata": {},
   "outputs": [
    {
     "name": "stdout",
     "output_type": "stream",
     "text": [
      "[[ 1  2  3]\n",
      " [ 4  5  6]\n",
      " [ 7  8  9]\n",
      " [10 11 12]\n",
      " [13 14 15]\n",
      " [16 17 18]]\n",
      "[array([[ 1],\n",
      "       [ 4],\n",
      "       [ 7],\n",
      "       [10],\n",
      "       [13],\n",
      "       [16]]), array([[ 2],\n",
      "       [ 5],\n",
      "       [ 8],\n",
      "       [11],\n",
      "       [14],\n",
      "       [17]]), array([[ 3],\n",
      "       [ 6],\n",
      "       [ 9],\n",
      "       [12],\n",
      "       [15],\n",
      "       [18]])]\n"
     ]
    }
   ],
   "source": [
    "arr = np.array([[1, 2, 3], [4, 5, 6], [7, 8, 9], [10, 11, 12], [13, 14, 15], [16, 17, 18]])\n",
    "print(arr)\n",
    "newarr = np.array_split(arr, 3, axis=1)\n",
    "\n",
    "print(newarr)"
   ]
  },
  {
   "cell_type": "code",
   "execution_count": 233,
   "id": "a5045e76-267f-4e58-919b-17b382a5a6dd",
   "metadata": {},
   "outputs": [
    {
     "name": "stdout",
     "output_type": "stream",
     "text": [
      "[array([[ 1],\n",
      "       [ 4],\n",
      "       [ 7],\n",
      "       [10],\n",
      "       [13],\n",
      "       [16]]), array([[ 2],\n",
      "       [ 5],\n",
      "       [ 8],\n",
      "       [11],\n",
      "       [14],\n",
      "       [17]]), array([[ 3],\n",
      "       [ 6],\n",
      "       [ 9],\n",
      "       [12],\n",
      "       [15],\n",
      "       [18]])]\n"
     ]
    }
   ],
   "source": [
    "arr = np.array([[1, 2, 3], [4, 5, 6], [7, 8, 9], [10, 11, 12], [13, 14, 15], [16, 17, 18]])\n",
    "\n",
    "newarr = np.hsplit(arr, 3)\n",
    "\n",
    "print(newarr)"
   ]
  },
  {
   "cell_type": "markdown",
   "id": "d462e83d-4256-4e3b-985c-6357a31cfe60",
   "metadata": {},
   "source": [
    "### Massiv elementini izlash"
   ]
  },
  {
   "cell_type": "code",
   "execution_count": 241,
   "id": "e8d47eba-9b43-444e-955b-e9d7864a91f6",
   "metadata": {},
   "outputs": [
    {
     "name": "stdout",
     "output_type": "stream",
     "text": [
      "(array([3, 5, 6], dtype=int64),)\n"
     ]
    }
   ],
   "source": [
    "arr = np.array([1, 2, 3, 4, 5, 4, 4])\n",
    "\n",
    "x = np.where(arr == 4)\n",
    "\n",
    "print(x)"
   ]
  },
  {
   "cell_type": "code",
   "execution_count": 242,
   "id": "4a57d5d1-54a7-4480-92ac-a4519a3659be",
   "metadata": {},
   "outputs": [
    {
     "name": "stdout",
     "output_type": "stream",
     "text": [
      "(array([1, 3, 5, 7], dtype=int64),)\n"
     ]
    }
   ],
   "source": [
    "arr = np.array([1, 2, 3, 4, 5, 6, 7, 8])\n",
    "\n",
    "x = np.where(arr%2 == 0)\n",
    "\n",
    "print(x)"
   ]
  },
  {
   "cell_type": "code",
   "execution_count": 243,
   "id": "2419ede0-70e0-4161-ac29-e652b51afb7a",
   "metadata": {},
   "outputs": [
    {
     "name": "stdout",
     "output_type": "stream",
     "text": [
      "(array([0, 2, 4, 6], dtype=int64),)\n"
     ]
    }
   ],
   "source": [
    "arr = np.array([1, 2, 3, 4, 5, 6, 7, 8])\n",
    "\n",
    "x = np.where(arr%2 == 1)\n",
    "\n",
    "print(x)"
   ]
  },
  {
   "cell_type": "code",
   "execution_count": 244,
   "id": "b8f13732-dda8-45cf-adc9-ca49fcb990ea",
   "metadata": {},
   "outputs": [
    {
     "name": "stdout",
     "output_type": "stream",
     "text": [
      "[0 1 2 3]\n"
     ]
    }
   ],
   "source": [
    "arr = np.array([3, 2, 0, 1])\n",
    "\n",
    "print(np.sort(arr))"
   ]
  },
  {
   "cell_type": "code",
   "execution_count": 246,
   "id": "c2ae752d-f2f4-4b03-b708-d671a92f5aaf",
   "metadata": {},
   "outputs": [
    {
     "name": "stdout",
     "output_type": "stream",
     "text": [
      "['apple' 'banana' 'cherry']\n"
     ]
    }
   ],
   "source": [
    "arr = np.array(['banana', 'cherry', 'apple'])\n",
    "\n",
    "print(np.sort(arr))"
   ]
  },
  {
   "cell_type": "code",
   "execution_count": 247,
   "id": "227f6b62-33af-42a3-9dee-df59c79b9e7d",
   "metadata": {},
   "outputs": [
    {
     "name": "stdout",
     "output_type": "stream",
     "text": [
      "[False  True  True]\n"
     ]
    }
   ],
   "source": [
    "arr = np.array([True, False, True])\n",
    "\n",
    "print(np.sort(arr))"
   ]
  },
  {
   "cell_type": "code",
   "execution_count": 248,
   "id": "f552770d-e986-4a20-b5d3-a0aa75293097",
   "metadata": {},
   "outputs": [
    {
     "name": "stdout",
     "output_type": "stream",
     "text": [
      "[[2 3 4]\n",
      " [0 1 5]]\n"
     ]
    }
   ],
   "source": [
    "arr = np.array([[3, 2, 4], [5, 0, 1]])\n",
    "\n",
    "print(np.sort(arr))"
   ]
  },
  {
   "cell_type": "code",
   "execution_count": null,
   "id": "1a812670-9c18-4d24-896f-d4775e28465a",
   "metadata": {},
   "outputs": [],
   "source": []
  },
  {
   "cell_type": "markdown",
   "id": "41c7230d",
   "metadata": {},
   "source": [
    "### Massivda Matematik va statistik funksiyalar"
   ]
  },
  {
   "cell_type": "code",
   "execution_count": null,
   "id": "819acff8-85e6-4d26-88d7-04ffc3feb682",
   "metadata": {},
   "outputs": [],
   "source": []
  },
  {
   "cell_type": "code",
   "execution_count": null,
   "id": "34aa8855-8cfb-4930-8cd0-5d18ad4202fd",
   "metadata": {},
   "outputs": [],
   "source": []
  },
  {
   "cell_type": "code",
   "execution_count": null,
   "id": "d88e6320-ab57-4334-bb6f-0151a8cf35f8",
   "metadata": {},
   "outputs": [],
   "source": []
  },
  {
   "cell_type": "markdown",
   "id": "a779bc95",
   "metadata": {},
   "source": [
    "### Numpy da NUN qiymatlar bilan ishlash"
   ]
  },
  {
   "cell_type": "code",
   "execution_count": null,
   "id": "3e36a1af-e54d-4299-a9a7-92e3441bec90",
   "metadata": {},
   "outputs": [],
   "source": []
  },
  {
   "cell_type": "code",
   "execution_count": null,
   "id": "f3c88fe0-6fab-4e60-92f3-2113b88e185d",
   "metadata": {},
   "outputs": [],
   "source": []
  },
  {
   "cell_type": "code",
   "execution_count": 101,
   "id": "90661741",
   "metadata": {},
   "outputs": [
    {
     "name": "stdout",
     "output_type": "stream",
     "text": [
      "[1, 1, 2, 3, 6, 8, 10]\n"
     ]
    }
   ],
   "source": [
    "def quicksort(arr):\n",
    "    if len(arr) <= 1:\n",
    "        return arr\n",
    "    pivot = arr[len(arr) // 2]\n",
    "    left = [x for x in arr if x < pivot]\n",
    "    middle = [x for x in arr if x == pivot]\n",
    "    right = [x for x in arr if x > pivot]\n",
    "    return quicksort(left) + middle + quicksort(right)\n",
    "\n",
    "print(quicksort([3,6,8,10,1,2,1]))\n",
    "# Prints \"[1, 1, 2, 3, 6, 8, 10]\""
   ]
  },
  {
   "cell_type": "code",
   "execution_count": 109,
   "id": "3775655a-1f88-45f5-aa2e-a12cb6e374fb",
   "metadata": {},
   "outputs": [
    {
     "name": "stdin",
     "output_type": "stream",
     "text": [
      "Talabamisiz talabaman/talaba emasman talabaman\n"
     ]
    },
    {
     "name": "stdout",
     "output_type": "stream",
     "text": [
      "Yaxshi o'qing talaba\n"
     ]
    }
   ],
   "source": [
    "kimsiz = input('Talabamisiz talabaman/talaba emasman')\n",
    "if kimsiz.lower() == 'talabaman' or kimsiz.lower()=='ha':\n",
    "    print(\"Yaxshi o'qing talaba\")\n",
    "else:\n",
    "    print(\"yaxshi o'qimagansiz\")    "
   ]
  },
  {
   "cell_type": "code",
   "execution_count": 113,
   "id": "f8b72c77-5809-4507-b086-57cf0856623d",
   "metadata": {},
   "outputs": [
    {
     "name": "stdin",
     "output_type": "stream",
     "text": [
      "Talabamisiz ha bo'lsa 1/aks xolda 0 ni kiriting 1\n"
     ]
    },
    {
     "name": "stdout",
     "output_type": "stream",
     "text": [
      "Yaxshi o'qing talaba\n"
     ]
    }
   ],
   "source": [
    "kimsiz = int(input(\"Talabamisiz ha bo'lsa 1/aks xolda 0 ni kiriting\"))\n",
    "if kimsiz == 1:\n",
    "    print(\"Yaxshi o'qing talaba\")\n",
    "else:\n",
    "    print(\"yaxshi o'qimagansiz\")    "
   ]
  }
 ],
 "metadata": {
  "kernelspec": {
   "display_name": "Python 3 (ipykernel)",
   "language": "python",
   "name": "python3"
  },
  "language_info": {
   "codemirror_mode": {
    "name": "ipython",
    "version": 3
   },
   "file_extension": ".py",
   "mimetype": "text/x-python",
   "name": "python",
   "nbconvert_exporter": "python",
   "pygments_lexer": "ipython3",
   "version": "3.12.6"
  }
 },
 "nbformat": 4,
 "nbformat_minor": 5
}
