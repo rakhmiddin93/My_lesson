{
 "cells": [
  {
   "cell_type": "markdown",
   "id": "72869c87-5d9c-4099-9415-2fad304a722e",
   "metadata": {},
   "source": [
    "__1. Array Creation__\n",
    "- np.array(): Create an array.\n",
    "- np.zeros(): Create an array filled with zeros.\n",
    "- np.ones(): Create an array filled with ones.\n",
    "- np.eye(): Create an identity matrix.\n",
    "- np.arange(): Create an array with a range of values.\n",
    "- np.linspace(): Create an array with evenly spaced values.\n",
    "- np.random.rand(): Create an array with random values between 0 and 1.\n",
    "- np.random.randint(): Create an array with random integers.\n",
    "- np.empty(): Create an uninitialized array.\n"
   ]
  },
  {
   "cell_type": "markdown",
   "id": "5b00899e-8029-423f-9020-a1a1789efaa7",
   "metadata": {},
   "source": [
    "2. Array Manipulation\n",
    "- np.reshape(): Reshape an array without changing data.\n",
    "- np.transpose(): Transpose the dimensions of an array.\n",
    "- np.concatenate(): Concatenate arrays along an axis.\n",
    "- np.vstack(): Stack arrays vertically.\n",
    "- np.hstack(): Stack arrays horizontally.\n",
    "- np.split(): Split an array into multiple sub-arrays.\n",
    "- np.append(): Append elements to an array.\n",
    "- np.insert(): Insert values into an array.\n",
    "- np.delete(): Delete elements from an array.\n",
    "- np.expand_dims(): Expand the shape of an array.\n",
    "- np.squeeze(): Remove single-dimensional entries from the shape of an array.\n",
    "- np.tile(): Repeat an array multiple times.\n",
    "- np.repeat(): Repeat elements of an array.\n"
   ]
  },
  {
   "cell_type": "markdown",
   "id": "76f757fe-3686-440d-b2a8-18a2ed41faa8",
   "metadata": {},
   "source": [
    "3. Indexing and Slicing\n",
    "- array[index]: Standard array indexing.\n",
    "- array[start:stop:step]: Slicing with start, stop, and step.\n",
    "- np.where(): Return indices where a condition is met.\n",
    "- np.take(): Take elements at specific indices along an axis.\n",
    "- np.choose(): Construct an array by picking elements from other arrays.\n",
    "- np.nonzero(): Return indices of non-zero elements."
   ]
  },
  {
   "cell_type": "markdown",
   "id": "ff9fca27-8740-4a5e-9bd6-d59ade7a6dea",
   "metadata": {},
   "source": [
    "4. Mathematical Operations\n",
    "- np.add(): Element-wise addition.\n",
    "- np.subtract(): Element-wise subtraction.\n",
    "- np.multiply(): Element-wise multiplication.\n",
    "- np.divide(): Element-wise division.\n",
    "- np.power(): Element-wise power.\n",
    "- np.mod(): Element-wise modulus.\n",
    "- np.exp(): Element-wise exponential.\n",
    "- np.log(): Natural logarithm of elements.\n",
    "- np.log10(): Base-10 logarithm.\n",
    "- np.sqrt(): Square root of each element.\n",
    "- np.abs(): Absolute value.\n",
    "- np.round(): Round elements to the nearest integer.\n"
   ]
  },
  {
   "cell_type": "markdown",
   "id": "04f10452-91db-4bd8-8a7e-2c349f9a860f",
   "metadata": {},
   "source": [
    "5. Aggregate Functions\n",
    "- np.sum(): Sum of array elements.\n",
    "- np.mean(): Mean of array elements.\n",
    "- np.median(): Median of array elements.\n",
    "- np.std(): Standard deviation.\n",
    "- np.var(): Variance.\n",
    "- np.min(): Minimum value.\n",
    "- np.max(): Maximum value.\n",
    "- np.cumsum(): Cumulative sum of elements.\n",
    "- np.cumprod(): Cumulative product of elements.\n",
    "- np.prod(): Product of array elements.\n"
   ]
  },
  {
   "cell_type": "markdown",
   "id": "45535f55-393a-4411-b6dc-d68bd5494dad",
   "metadata": {},
   "source": [
    "6. Linear Algebra\n",
    "- np.dot(): Dot product of two arrays.\n",
    "- np.vdot(): Dot product of vectors.\n",
    "- np.inner(): Inner product of two arrays.\n",
    "- np.outer(): Outer product of two arrays.\n",
    "- np.cross(): Cross product of two arrays.\n",
    "- np.linalg.inv(): Inverse of a matrix.\n",
    "- np.linalg.det(): Determinant of a matrix.\n",
    "- np.linalg.eig(): Eigenvalues and eigenvectors of a matrix.\n",
    "- np.linalg.norm(): Norm of a matrix or vector.\n",
    "- np.linalg.solve(): Solve a linear matrix equation.\n"
   ]
  },
  {
   "cell_type": "markdown",
   "id": "5d63a30a-9bf9-4383-9562-9e79b9d11aa4",
   "metadata": {},
   "source": [
    "7. Random Functions\n",
    "- np.random.seed(): Seed the random number generator.\n",
    "- np.random.rand(): Generate an array of random values between 0 and 1.\n",
    "- np.random.randn(): Generate random samples from a standard normal distribution.\n",
    "- np.random.randint(): Generate random integers.\n",
    "- np.random.choice(): Randomly select elements from an array.\n",
    "- np.random.shuffle(): Shuffle an array.\n",
    "- np.random.permutation(): Randomly permute an array.\n"
   ]
  },
  {
   "cell_type": "markdown",
   "id": "a9da2503-fbc7-498c-914a-04bf736bda7a",
   "metadata": {},
   "source": [
    "8. Comparison and Boolean Operations\n",
    "- np.equal(): Check element-wise equality.\n",
    "- np.not_equal(): Check element-wise inequality.\n",
    "- np.greater(): Element-wise greater than comparison.\n",
    "- np.greater_equal(): Element-wise greater than or equal to comparison.\n",
    "- np.less(): Element-wise less than comparison.\n",
    "- np.less_equal(): Element-wise less than or equal to comparison.\n",
    "- np.logical_and(): Element-wise logical AND.\n",
    "- np.logical_or(): Element-wise logical OR.\n",
    "- np.logical_not(): Element-wise logical NOT.\n",
    "- np.any(): Test if any element is true.\n",
    "- np.all(): Test if all elements are true.\n"
   ]
  },
  {
   "cell_type": "markdown",
   "id": "1973f036-4529-4363-ac60-f20b42145342",
   "metadata": {},
   "source": [
    "9. Array Attributes and Properties\n",
    "- array.shape: Get the shape of an array.\n",
    "- array.size: Get the total number of elements.\n",
    "- array.ndim: Get the number of dimensions.\n",
    "- array.dtype: Get the data type of an array.\n",
    "- array.T: Get the transpose of an array.\n",
    "- array.itemsize: Get the size of each element in bytes.\n"
   ]
  },
  {
   "cell_type": "markdown",
   "id": "1b50bd10-7e8a-4800-b731-c2dfe531bb69",
   "metadata": {},
   "source": [
    "10. Special Functions\n",
    "- np.unique(): Find unique elements of an array.\n",
    "- np.sort(): Sort an array.\n",
    "- np.argsort(): Indices that would sort an array.\n",
    "- np.argmax(): Index of the maximum value.\n",
    "- np.argmin(): Index of the minimum value.\n",
    "- np.clip(): Clip (limit) the values in an array.\n",
    "- np.meshgrid(): Create coordinate matrices from coordinate vectors.\n",
    "- np.histogram(): Compute histogram data."
   ]
  },
  {
   "cell_type": "code",
   "execution_count": null,
   "id": "eb2f02cd-c1a6-4910-8344-00b85740f15b",
   "metadata": {},
   "outputs": [],
   "source": []
  }
 ],
 "metadata": {
  "kernelspec": {
   "display_name": "Python 3 (ipykernel)",
   "language": "python",
   "name": "python3"
  },
  "language_info": {
   "codemirror_mode": {
    "name": "ipython",
    "version": 3
   },
   "file_extension": ".py",
   "mimetype": "text/x-python",
   "name": "python",
   "nbconvert_exporter": "python",
   "pygments_lexer": "ipython3",
   "version": "3.12.6"
  }
 },
 "nbformat": 4,
 "nbformat_minor": 5
}
